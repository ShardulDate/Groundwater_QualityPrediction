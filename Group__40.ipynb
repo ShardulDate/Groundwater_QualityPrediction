{
  "cells": [
    {
      "cell_type": "code",
      "execution_count": null,
      "metadata": {
        "id": "Mr5HRU_edQTF"
      },
      "outputs": [],
      "source": [
        "import pandas as pd\n",
        "import numpy as np\n",
        "%matplotlib inline\n",
        "import matplotlib.pyplot as plt\n",
        "import seaborn as sns\n",
        "from sklearn.model_selection import train_test_split\n",
        "from sklearn.preprocessing import MinMaxScaler\n",
        "from sklearn.neighbors import KNeighborsClassifier\n",
        "from sklearn.linear_model import LogisticRegression\n",
        "from sklearn.metrics import accuracy_score,confusion_matrix,classification_report\n",
        "from sklearn.svm import SVC\n",
        "from sklearn.ensemble import RandomForestClassifier\n",
        "from sklearn.tree import plot_tree\n",
        "from sklearn.tree import DecisionTreeClassifier\n",
        "from sklearn.model_selection import GridSearchCV\n",
        "from sklearn.model_selection import RandomizedSearchCV\n",
        "from sklearn.metrics import precision_score, recall_score, f1_score, classification_report"
      ]
    },
    {
      "cell_type": "code",
      "execution_count": null,
      "metadata": {
        "colab": {
          "base_uri": "https://localhost:8080/"
        },
        "id": "KsOENymvUrap",
        "outputId": "49193494-131b-448c-aa98-44393e33d8ce"
      },
      "outputs": [
        {
          "output_type": "stream",
          "name": "stdout",
          "text": [
            "Mounted at /content/drive\n"
          ]
        }
      ],
      "source": [
        "from google.colab import drive\n",
        "drive.mount('/content/drive')"
      ]
    },
    {
      "cell_type": "code",
      "execution_count": null,
      "metadata": {
        "id": "pFMWe9KqeCfb"
      },
      "outputs": [],
      "source": [
        "df_1 = pd.read_csv('/content/drive/MyDrive/project/ground_water_quality_2018_post.csv')\n",
        "df_2 = pd.read_csv('/content/drive/MyDrive/project/ground_water_quality_2019_post.csv')\n",
        "df_3 = pd.read_csv('/content/drive/MyDrive/project/ground_water_quality_2020_post.csv')"
      ]
    },
    {
      "cell_type": "code",
      "execution_count": null,
      "metadata": {
        "colab": {
          "base_uri": "https://localhost:8080/",
          "height": 359
        },
        "id": "i5iUDho7f1eN",
        "outputId": "35ab313e-15e6-4cdd-b71f-aa6d644b7e29"
      },
      "outputs": [
        {
          "output_type": "execute_result",
          "data": {
            "text/plain": [
              "   sno  district       mandal      village    lat_gis   long_gis   gwl  \\\n",
              "0    1  ADILABAD     Adilabad     Adilabad  19.668300  78.524700  5.09   \n",
              "1    2  ADILABAD  Bazarhatnur  Bazarhatnur  19.458888  78.350833  5.10   \n",
              "2    3  ADILABAD  Gudihatnoor  Gudihatnoor  19.525555  78.512222  4.98   \n",
              "3    4  ADILABAD      Jainath      Jainath  19.730555  78.640000  5.75   \n",
              "4    5  ADILABAD      Narnoor      Narnoor  19.495665  78.852654  2.15   \n",
              "\n",
              "              season    pH   E.C  ...    SO4     Na    K  Ca      Mg  \\\n",
              "0  postmonsoon 2018   8.28   745  ...   46.0   49.0  4.0  48  38.896   \n",
              "1  postmonsoon 2018   8.29   921  ...   68.0   42.0  5.0  56  63.206   \n",
              "2  postmonsoon 2018   7.69   510  ...   44.0   45.0  2.0  24  38.896   \n",
              "3  postmonsoon 2018   8.09   422  ...   35.0   27.0  1.0  32  19.448   \n",
              "4  postmonsoon 2018   8.21  2321  ...  280.0  298.0  5.0  56  92.378   \n",
              "\n",
              "          T.H       SAR  Classification  RSC  meq  / L  Classification.1  \n",
              "0  279.934211  1.273328            C2S1      -1.198684              P.S.  \n",
              "1  399.893092  0.913166            C3S1      -3.397862              P.S.  \n",
              "2  219.934211  1.319284            C2S1      -0.398684              P.S.  \n",
              "3  159.967105  0.928155            C2S1       0.000658              P.S.  \n",
              "4  519.843750  5.682664            C4S2      -4.396875              P.S.  \n",
              "\n",
              "[5 rows x 26 columns]"
            ],
            "text/html": [
              "\n",
              "  <div id=\"df-b10ae6df-773c-43c1-86b2-822228b8f3be\" class=\"colab-df-container\">\n",
              "    <div>\n",
              "<style scoped>\n",
              "    .dataframe tbody tr th:only-of-type {\n",
              "        vertical-align: middle;\n",
              "    }\n",
              "\n",
              "    .dataframe tbody tr th {\n",
              "        vertical-align: top;\n",
              "    }\n",
              "\n",
              "    .dataframe thead th {\n",
              "        text-align: right;\n",
              "    }\n",
              "</style>\n",
              "<table border=\"1\" class=\"dataframe\">\n",
              "  <thead>\n",
              "    <tr style=\"text-align: right;\">\n",
              "      <th></th>\n",
              "      <th>sno</th>\n",
              "      <th>district</th>\n",
              "      <th>mandal</th>\n",
              "      <th>village</th>\n",
              "      <th>lat_gis</th>\n",
              "      <th>long_gis</th>\n",
              "      <th>gwl</th>\n",
              "      <th>season</th>\n",
              "      <th>pH</th>\n",
              "      <th>E.C</th>\n",
              "      <th>...</th>\n",
              "      <th>SO4</th>\n",
              "      <th>Na</th>\n",
              "      <th>K</th>\n",
              "      <th>Ca</th>\n",
              "      <th>Mg</th>\n",
              "      <th>T.H</th>\n",
              "      <th>SAR</th>\n",
              "      <th>Classification</th>\n",
              "      <th>RSC  meq  / L</th>\n",
              "      <th>Classification.1</th>\n",
              "    </tr>\n",
              "  </thead>\n",
              "  <tbody>\n",
              "    <tr>\n",
              "      <th>0</th>\n",
              "      <td>1</td>\n",
              "      <td>ADILABAD</td>\n",
              "      <td>Adilabad</td>\n",
              "      <td>Adilabad</td>\n",
              "      <td>19.668300</td>\n",
              "      <td>78.524700</td>\n",
              "      <td>5.09</td>\n",
              "      <td>postmonsoon 2018</td>\n",
              "      <td>8.28</td>\n",
              "      <td>745</td>\n",
              "      <td>...</td>\n",
              "      <td>46.0</td>\n",
              "      <td>49.0</td>\n",
              "      <td>4.0</td>\n",
              "      <td>48</td>\n",
              "      <td>38.896</td>\n",
              "      <td>279.934211</td>\n",
              "      <td>1.273328</td>\n",
              "      <td>C2S1</td>\n",
              "      <td>-1.198684</td>\n",
              "      <td>P.S.</td>\n",
              "    </tr>\n",
              "    <tr>\n",
              "      <th>1</th>\n",
              "      <td>2</td>\n",
              "      <td>ADILABAD</td>\n",
              "      <td>Bazarhatnur</td>\n",
              "      <td>Bazarhatnur</td>\n",
              "      <td>19.458888</td>\n",
              "      <td>78.350833</td>\n",
              "      <td>5.10</td>\n",
              "      <td>postmonsoon 2018</td>\n",
              "      <td>8.29</td>\n",
              "      <td>921</td>\n",
              "      <td>...</td>\n",
              "      <td>68.0</td>\n",
              "      <td>42.0</td>\n",
              "      <td>5.0</td>\n",
              "      <td>56</td>\n",
              "      <td>63.206</td>\n",
              "      <td>399.893092</td>\n",
              "      <td>0.913166</td>\n",
              "      <td>C3S1</td>\n",
              "      <td>-3.397862</td>\n",
              "      <td>P.S.</td>\n",
              "    </tr>\n",
              "    <tr>\n",
              "      <th>2</th>\n",
              "      <td>3</td>\n",
              "      <td>ADILABAD</td>\n",
              "      <td>Gudihatnoor</td>\n",
              "      <td>Gudihatnoor</td>\n",
              "      <td>19.525555</td>\n",
              "      <td>78.512222</td>\n",
              "      <td>4.98</td>\n",
              "      <td>postmonsoon 2018</td>\n",
              "      <td>7.69</td>\n",
              "      <td>510</td>\n",
              "      <td>...</td>\n",
              "      <td>44.0</td>\n",
              "      <td>45.0</td>\n",
              "      <td>2.0</td>\n",
              "      <td>24</td>\n",
              "      <td>38.896</td>\n",
              "      <td>219.934211</td>\n",
              "      <td>1.319284</td>\n",
              "      <td>C2S1</td>\n",
              "      <td>-0.398684</td>\n",
              "      <td>P.S.</td>\n",
              "    </tr>\n",
              "    <tr>\n",
              "      <th>3</th>\n",
              "      <td>4</td>\n",
              "      <td>ADILABAD</td>\n",
              "      <td>Jainath</td>\n",
              "      <td>Jainath</td>\n",
              "      <td>19.730555</td>\n",
              "      <td>78.640000</td>\n",
              "      <td>5.75</td>\n",
              "      <td>postmonsoon 2018</td>\n",
              "      <td>8.09</td>\n",
              "      <td>422</td>\n",
              "      <td>...</td>\n",
              "      <td>35.0</td>\n",
              "      <td>27.0</td>\n",
              "      <td>1.0</td>\n",
              "      <td>32</td>\n",
              "      <td>19.448</td>\n",
              "      <td>159.967105</td>\n",
              "      <td>0.928155</td>\n",
              "      <td>C2S1</td>\n",
              "      <td>0.000658</td>\n",
              "      <td>P.S.</td>\n",
              "    </tr>\n",
              "    <tr>\n",
              "      <th>4</th>\n",
              "      <td>5</td>\n",
              "      <td>ADILABAD</td>\n",
              "      <td>Narnoor</td>\n",
              "      <td>Narnoor</td>\n",
              "      <td>19.495665</td>\n",
              "      <td>78.852654</td>\n",
              "      <td>2.15</td>\n",
              "      <td>postmonsoon 2018</td>\n",
              "      <td>8.21</td>\n",
              "      <td>2321</td>\n",
              "      <td>...</td>\n",
              "      <td>280.0</td>\n",
              "      <td>298.0</td>\n",
              "      <td>5.0</td>\n",
              "      <td>56</td>\n",
              "      <td>92.378</td>\n",
              "      <td>519.843750</td>\n",
              "      <td>5.682664</td>\n",
              "      <td>C4S2</td>\n",
              "      <td>-4.396875</td>\n",
              "      <td>P.S.</td>\n",
              "    </tr>\n",
              "  </tbody>\n",
              "</table>\n",
              "<p>5 rows × 26 columns</p>\n",
              "</div>\n",
              "    <div class=\"colab-df-buttons\">\n",
              "\n",
              "  <div class=\"colab-df-container\">\n",
              "    <button class=\"colab-df-convert\" onclick=\"convertToInteractive('df-b10ae6df-773c-43c1-86b2-822228b8f3be')\"\n",
              "            title=\"Convert this dataframe to an interactive table.\"\n",
              "            style=\"display:none;\">\n",
              "\n",
              "  <svg xmlns=\"http://www.w3.org/2000/svg\" height=\"24px\" viewBox=\"0 -960 960 960\">\n",
              "    <path d=\"M120-120v-720h720v720H120Zm60-500h600v-160H180v160Zm220 220h160v-160H400v160Zm0 220h160v-160H400v160ZM180-400h160v-160H180v160Zm440 0h160v-160H620v160ZM180-180h160v-160H180v160Zm440 0h160v-160H620v160Z\"/>\n",
              "  </svg>\n",
              "    </button>\n",
              "\n",
              "  <style>\n",
              "    .colab-df-container {\n",
              "      display:flex;\n",
              "      gap: 12px;\n",
              "    }\n",
              "\n",
              "    .colab-df-convert {\n",
              "      background-color: #E8F0FE;\n",
              "      border: none;\n",
              "      border-radius: 50%;\n",
              "      cursor: pointer;\n",
              "      display: none;\n",
              "      fill: #1967D2;\n",
              "      height: 32px;\n",
              "      padding: 0 0 0 0;\n",
              "      width: 32px;\n",
              "    }\n",
              "\n",
              "    .colab-df-convert:hover {\n",
              "      background-color: #E2EBFA;\n",
              "      box-shadow: 0px 1px 2px rgba(60, 64, 67, 0.3), 0px 1px 3px 1px rgba(60, 64, 67, 0.15);\n",
              "      fill: #174EA6;\n",
              "    }\n",
              "\n",
              "    .colab-df-buttons div {\n",
              "      margin-bottom: 4px;\n",
              "    }\n",
              "\n",
              "    [theme=dark] .colab-df-convert {\n",
              "      background-color: #3B4455;\n",
              "      fill: #D2E3FC;\n",
              "    }\n",
              "\n",
              "    [theme=dark] .colab-df-convert:hover {\n",
              "      background-color: #434B5C;\n",
              "      box-shadow: 0px 1px 3px 1px rgba(0, 0, 0, 0.15);\n",
              "      filter: drop-shadow(0px 1px 2px rgba(0, 0, 0, 0.3));\n",
              "      fill: #FFFFFF;\n",
              "    }\n",
              "  </style>\n",
              "\n",
              "    <script>\n",
              "      const buttonEl =\n",
              "        document.querySelector('#df-b10ae6df-773c-43c1-86b2-822228b8f3be button.colab-df-convert');\n",
              "      buttonEl.style.display =\n",
              "        google.colab.kernel.accessAllowed ? 'block' : 'none';\n",
              "\n",
              "      async function convertToInteractive(key) {\n",
              "        const element = document.querySelector('#df-b10ae6df-773c-43c1-86b2-822228b8f3be');\n",
              "        const dataTable =\n",
              "          await google.colab.kernel.invokeFunction('convertToInteractive',\n",
              "                                                    [key], {});\n",
              "        if (!dataTable) return;\n",
              "\n",
              "        const docLinkHtml = 'Like what you see? Visit the ' +\n",
              "          '<a target=\"_blank\" href=https://colab.research.google.com/notebooks/data_table.ipynb>data table notebook</a>'\n",
              "          + ' to learn more about interactive tables.';\n",
              "        element.innerHTML = '';\n",
              "        dataTable['output_type'] = 'display_data';\n",
              "        await google.colab.output.renderOutput(dataTable, element);\n",
              "        const docLink = document.createElement('div');\n",
              "        docLink.innerHTML = docLinkHtml;\n",
              "        element.appendChild(docLink);\n",
              "      }\n",
              "    </script>\n",
              "  </div>\n",
              "\n",
              "\n",
              "<div id=\"df-54a11b56-0d68-468a-81e6-22514559ff1a\">\n",
              "  <button class=\"colab-df-quickchart\" onclick=\"quickchart('df-54a11b56-0d68-468a-81e6-22514559ff1a')\"\n",
              "            title=\"Suggest charts\"\n",
              "            style=\"display:none;\">\n",
              "\n",
              "<svg xmlns=\"http://www.w3.org/2000/svg\" height=\"24px\"viewBox=\"0 0 24 24\"\n",
              "     width=\"24px\">\n",
              "    <g>\n",
              "        <path d=\"M19 3H5c-1.1 0-2 .9-2 2v14c0 1.1.9 2 2 2h14c1.1 0 2-.9 2-2V5c0-1.1-.9-2-2-2zM9 17H7v-7h2v7zm4 0h-2V7h2v10zm4 0h-2v-4h2v4z\"/>\n",
              "    </g>\n",
              "</svg>\n",
              "  </button>\n",
              "\n",
              "<style>\n",
              "  .colab-df-quickchart {\n",
              "      --bg-color: #E8F0FE;\n",
              "      --fill-color: #1967D2;\n",
              "      --hover-bg-color: #E2EBFA;\n",
              "      --hover-fill-color: #174EA6;\n",
              "      --disabled-fill-color: #AAA;\n",
              "      --disabled-bg-color: #DDD;\n",
              "  }\n",
              "\n",
              "  [theme=dark] .colab-df-quickchart {\n",
              "      --bg-color: #3B4455;\n",
              "      --fill-color: #D2E3FC;\n",
              "      --hover-bg-color: #434B5C;\n",
              "      --hover-fill-color: #FFFFFF;\n",
              "      --disabled-bg-color: #3B4455;\n",
              "      --disabled-fill-color: #666;\n",
              "  }\n",
              "\n",
              "  .colab-df-quickchart {\n",
              "    background-color: var(--bg-color);\n",
              "    border: none;\n",
              "    border-radius: 50%;\n",
              "    cursor: pointer;\n",
              "    display: none;\n",
              "    fill: var(--fill-color);\n",
              "    height: 32px;\n",
              "    padding: 0;\n",
              "    width: 32px;\n",
              "  }\n",
              "\n",
              "  .colab-df-quickchart:hover {\n",
              "    background-color: var(--hover-bg-color);\n",
              "    box-shadow: 0 1px 2px rgba(60, 64, 67, 0.3), 0 1px 3px 1px rgba(60, 64, 67, 0.15);\n",
              "    fill: var(--button-hover-fill-color);\n",
              "  }\n",
              "\n",
              "  .colab-df-quickchart-complete:disabled,\n",
              "  .colab-df-quickchart-complete:disabled:hover {\n",
              "    background-color: var(--disabled-bg-color);\n",
              "    fill: var(--disabled-fill-color);\n",
              "    box-shadow: none;\n",
              "  }\n",
              "\n",
              "  .colab-df-spinner {\n",
              "    border: 2px solid var(--fill-color);\n",
              "    border-color: transparent;\n",
              "    border-bottom-color: var(--fill-color);\n",
              "    animation:\n",
              "      spin 1s steps(1) infinite;\n",
              "  }\n",
              "\n",
              "  @keyframes spin {\n",
              "    0% {\n",
              "      border-color: transparent;\n",
              "      border-bottom-color: var(--fill-color);\n",
              "      border-left-color: var(--fill-color);\n",
              "    }\n",
              "    20% {\n",
              "      border-color: transparent;\n",
              "      border-left-color: var(--fill-color);\n",
              "      border-top-color: var(--fill-color);\n",
              "    }\n",
              "    30% {\n",
              "      border-color: transparent;\n",
              "      border-left-color: var(--fill-color);\n",
              "      border-top-color: var(--fill-color);\n",
              "      border-right-color: var(--fill-color);\n",
              "    }\n",
              "    40% {\n",
              "      border-color: transparent;\n",
              "      border-right-color: var(--fill-color);\n",
              "      border-top-color: var(--fill-color);\n",
              "    }\n",
              "    60% {\n",
              "      border-color: transparent;\n",
              "      border-right-color: var(--fill-color);\n",
              "    }\n",
              "    80% {\n",
              "      border-color: transparent;\n",
              "      border-right-color: var(--fill-color);\n",
              "      border-bottom-color: var(--fill-color);\n",
              "    }\n",
              "    90% {\n",
              "      border-color: transparent;\n",
              "      border-bottom-color: var(--fill-color);\n",
              "    }\n",
              "  }\n",
              "</style>\n",
              "\n",
              "  <script>\n",
              "    async function quickchart(key) {\n",
              "      const quickchartButtonEl =\n",
              "        document.querySelector('#' + key + ' button');\n",
              "      quickchartButtonEl.disabled = true;  // To prevent multiple clicks.\n",
              "      quickchartButtonEl.classList.add('colab-df-spinner');\n",
              "      try {\n",
              "        const charts = await google.colab.kernel.invokeFunction(\n",
              "            'suggestCharts', [key], {});\n",
              "      } catch (error) {\n",
              "        console.error('Error during call to suggestCharts:', error);\n",
              "      }\n",
              "      quickchartButtonEl.classList.remove('colab-df-spinner');\n",
              "      quickchartButtonEl.classList.add('colab-df-quickchart-complete');\n",
              "    }\n",
              "    (() => {\n",
              "      let quickchartButtonEl =\n",
              "        document.querySelector('#df-54a11b56-0d68-468a-81e6-22514559ff1a button');\n",
              "      quickchartButtonEl.style.display =\n",
              "        google.colab.kernel.accessAllowed ? 'block' : 'none';\n",
              "    })();\n",
              "  </script>\n",
              "</div>\n",
              "\n",
              "    </div>\n",
              "  </div>\n"
            ],
            "application/vnd.google.colaboratory.intrinsic+json": {
              "type": "dataframe",
              "variable_name": "df_1"
            }
          },
          "metadata": {},
          "execution_count": 5
        }
      ],
      "source": [
        "df_1.head()"
      ]
    },
    {
      "cell_type": "code",
      "execution_count": null,
      "metadata": {
        "colab": {
          "base_uri": "https://localhost:8080/"
        },
        "id": "Dz6XGikegGS5",
        "outputId": "0142f72f-d70c-45aa-f325-4b6c569758ac"
      },
      "outputs": [
        {
          "output_type": "execute_result",
          "data": {
            "text/plain": [
              "(374, 26)"
            ]
          },
          "metadata": {},
          "execution_count": 6
        }
      ],
      "source": [
        "df_1.shape"
      ]
    },
    {
      "cell_type": "code",
      "execution_count": null,
      "metadata": {
        "colab": {
          "base_uri": "https://localhost:8080/"
        },
        "id": "BhOS2SRMf5cZ",
        "outputId": "f00ea726-893f-4353-f932-2d497f2364cc"
      },
      "outputs": [
        {
          "output_type": "execute_result",
          "data": {
            "text/plain": [
              "sno                 0\n",
              "district            0\n",
              "mandal              0\n",
              "village             0\n",
              "lat_gis             0\n",
              "long_gis            0\n",
              "gwl                 3\n",
              "season              0\n",
              "pH                  0\n",
              "E.C                 0\n",
              "TDS                 0\n",
              "CO3                 0\n",
              "HCO3                0\n",
              "Cl                  0\n",
              "F                   0\n",
              "NO3                 0\n",
              "SO4                 0\n",
              "Na                  0\n",
              "K                   0\n",
              "Ca                  0\n",
              "Mg                  0\n",
              "T.H                 0\n",
              "SAR                 0\n",
              "Classification      0\n",
              "RSC  meq  / L       0\n",
              "Classification.1    0\n",
              "dtype: int64"
            ]
          },
          "metadata": {},
          "execution_count": 7
        }
      ],
      "source": [
        "df_1.isnull().sum()"
      ]
    },
    {
      "cell_type": "code",
      "source": [
        "df_1.dtypes"
      ],
      "metadata": {
        "colab": {
          "base_uri": "https://localhost:8080/"
        },
        "id": "MF7ZzA0e1ovh",
        "outputId": "d6eafad2-4465-4fea-b52b-af2861aa06f9"
      },
      "execution_count": null,
      "outputs": [
        {
          "output_type": "execute_result",
          "data": {
            "text/plain": [
              "sno                   int64\n",
              "district             object\n",
              "mandal               object\n",
              "village              object\n",
              "lat_gis             float64\n",
              "long_gis            float64\n",
              "gwl                 float64\n",
              "season               object\n",
              "pH                  float64\n",
              "E.C                   int64\n",
              "TDS                 float64\n",
              "CO3                   int64\n",
              "HCO3                float64\n",
              "Cl                    int64\n",
              "F                   float64\n",
              "NO3                 float64\n",
              "SO4                 float64\n",
              "Na                  float64\n",
              "K                   float64\n",
              "Ca                    int64\n",
              "Mg                  float64\n",
              "T.H                 float64\n",
              "SAR                 float64\n",
              "Classification       object\n",
              "RSC  meq  / L       float64\n",
              "Classification.1     object\n",
              "dtype: object"
            ]
          },
          "metadata": {},
          "execution_count": 10
        }
      ]
    },
    {
      "cell_type": "code",
      "execution_count": null,
      "metadata": {
        "id": "LXo-0Z4yf92N"
      },
      "outputs": [],
      "source": [
        "df_1.fillna(df_1.mode(),inplace=True)"
      ]
    },
    {
      "cell_type": "code",
      "execution_count": null,
      "metadata": {
        "colab": {
          "base_uri": "https://localhost:8080/",
          "height": 446
        },
        "id": "oUVVlXZ5pLth",
        "outputId": "098bfcc3-81ad-4d96-fda0-3651f3dc0ff6"
      },
      "outputs": [
        {
          "output_type": "execute_result",
          "data": {
            "text/plain": [
              "   sno  district       mandal      village    lat_gis   long_gis   gwl  \\\n",
              "0    1  ADILABAD     Adilabad     Adilabad  19.668300  78.524700  6.45   \n",
              "1    2  ADILABAD  Bazarhatnur  Bazarhatnur  19.458888  78.350833  3.85   \n",
              "2    3  ADILABAD  Gudihatnoor  Gudihatnoor  19.525555  78.512222  4.45   \n",
              "3    4  ADILABAD      Jainath      Jainath  19.730555  78.640000  3.95   \n",
              "4    5  ADILABAD      Narnoor      Narnoor  19.495665  78.852654  2.15   \n",
              "\n",
              "              season    pH    EC  ...  SO4-2    Na+     K+  Ca+2    Mg+2  \\\n",
              "0  post monsoon 2019  8.32  2355  ...  377.0  273.0  113.0  80.0  82.654   \n",
              "1  post monsoon 2019  8.30   565  ...   52.0   89.0   14.0  48.0   4.862   \n",
              "2  post monsoon 2019  8.12   766  ...   43.0   39.0   10.0  40.0  24.310   \n",
              "3  post monsoon 2019  7.09   555  ...   31.0   40.0    5.0  40.0  24.310   \n",
              "4  post monsoon 2019  7.97   735  ...   28.0   44.0   16.0  72.0  34.034   \n",
              "\n",
              "          T.H       SAR  Classification  RSC  meq  / L  Classification.1  \n",
              "0  539.860197  5.108509            C4S2      -3.797204              P.S.  \n",
              "1  139.991776  3.196982            C2S1       1.200164              P.S.  \n",
              "2  199.958882  1.199130            C3S1      -0.199178              P.S.  \n",
              "3  199.958882  1.229877            C2S1       0.400822              P.S.  \n",
              "4  319.942434  0.996598            C2S1       0.401151              P.S.  \n",
              "\n",
              "[5 rows x 26 columns]"
            ],
            "text/html": [
              "\n",
              "  <div id=\"df-ec17ff05-3d83-4b51-9095-a248b66ef887\" class=\"colab-df-container\">\n",
              "    <div>\n",
              "<style scoped>\n",
              "    .dataframe tbody tr th:only-of-type {\n",
              "        vertical-align: middle;\n",
              "    }\n",
              "\n",
              "    .dataframe tbody tr th {\n",
              "        vertical-align: top;\n",
              "    }\n",
              "\n",
              "    .dataframe thead th {\n",
              "        text-align: right;\n",
              "    }\n",
              "</style>\n",
              "<table border=\"1\" class=\"dataframe\">\n",
              "  <thead>\n",
              "    <tr style=\"text-align: right;\">\n",
              "      <th></th>\n",
              "      <th>sno</th>\n",
              "      <th>district</th>\n",
              "      <th>mandal</th>\n",
              "      <th>village</th>\n",
              "      <th>lat_gis</th>\n",
              "      <th>long_gis</th>\n",
              "      <th>gwl</th>\n",
              "      <th>season</th>\n",
              "      <th>pH</th>\n",
              "      <th>EC</th>\n",
              "      <th>...</th>\n",
              "      <th>SO4-2</th>\n",
              "      <th>Na+</th>\n",
              "      <th>K+</th>\n",
              "      <th>Ca+2</th>\n",
              "      <th>Mg+2</th>\n",
              "      <th>T.H</th>\n",
              "      <th>SAR</th>\n",
              "      <th>Classification</th>\n",
              "      <th>RSC  meq  / L</th>\n",
              "      <th>Classification.1</th>\n",
              "    </tr>\n",
              "  </thead>\n",
              "  <tbody>\n",
              "    <tr>\n",
              "      <th>0</th>\n",
              "      <td>1</td>\n",
              "      <td>ADILABAD</td>\n",
              "      <td>Adilabad</td>\n",
              "      <td>Adilabad</td>\n",
              "      <td>19.668300</td>\n",
              "      <td>78.524700</td>\n",
              "      <td>6.45</td>\n",
              "      <td>post monsoon 2019</td>\n",
              "      <td>8.32</td>\n",
              "      <td>2355</td>\n",
              "      <td>...</td>\n",
              "      <td>377.0</td>\n",
              "      <td>273.0</td>\n",
              "      <td>113.0</td>\n",
              "      <td>80.0</td>\n",
              "      <td>82.654</td>\n",
              "      <td>539.860197</td>\n",
              "      <td>5.108509</td>\n",
              "      <td>C4S2</td>\n",
              "      <td>-3.797204</td>\n",
              "      <td>P.S.</td>\n",
              "    </tr>\n",
              "    <tr>\n",
              "      <th>1</th>\n",
              "      <td>2</td>\n",
              "      <td>ADILABAD</td>\n",
              "      <td>Bazarhatnur</td>\n",
              "      <td>Bazarhatnur</td>\n",
              "      <td>19.458888</td>\n",
              "      <td>78.350833</td>\n",
              "      <td>3.85</td>\n",
              "      <td>post monsoon 2019</td>\n",
              "      <td>8.30</td>\n",
              "      <td>565</td>\n",
              "      <td>...</td>\n",
              "      <td>52.0</td>\n",
              "      <td>89.0</td>\n",
              "      <td>14.0</td>\n",
              "      <td>48.0</td>\n",
              "      <td>4.862</td>\n",
              "      <td>139.991776</td>\n",
              "      <td>3.196982</td>\n",
              "      <td>C2S1</td>\n",
              "      <td>1.200164</td>\n",
              "      <td>P.S.</td>\n",
              "    </tr>\n",
              "    <tr>\n",
              "      <th>2</th>\n",
              "      <td>3</td>\n",
              "      <td>ADILABAD</td>\n",
              "      <td>Gudihatnoor</td>\n",
              "      <td>Gudihatnoor</td>\n",
              "      <td>19.525555</td>\n",
              "      <td>78.512222</td>\n",
              "      <td>4.45</td>\n",
              "      <td>post monsoon 2019</td>\n",
              "      <td>8.12</td>\n",
              "      <td>766</td>\n",
              "      <td>...</td>\n",
              "      <td>43.0</td>\n",
              "      <td>39.0</td>\n",
              "      <td>10.0</td>\n",
              "      <td>40.0</td>\n",
              "      <td>24.310</td>\n",
              "      <td>199.958882</td>\n",
              "      <td>1.199130</td>\n",
              "      <td>C3S1</td>\n",
              "      <td>-0.199178</td>\n",
              "      <td>P.S.</td>\n",
              "    </tr>\n",
              "    <tr>\n",
              "      <th>3</th>\n",
              "      <td>4</td>\n",
              "      <td>ADILABAD</td>\n",
              "      <td>Jainath</td>\n",
              "      <td>Jainath</td>\n",
              "      <td>19.730555</td>\n",
              "      <td>78.640000</td>\n",
              "      <td>3.95</td>\n",
              "      <td>post monsoon 2019</td>\n",
              "      <td>7.09</td>\n",
              "      <td>555</td>\n",
              "      <td>...</td>\n",
              "      <td>31.0</td>\n",
              "      <td>40.0</td>\n",
              "      <td>5.0</td>\n",
              "      <td>40.0</td>\n",
              "      <td>24.310</td>\n",
              "      <td>199.958882</td>\n",
              "      <td>1.229877</td>\n",
              "      <td>C2S1</td>\n",
              "      <td>0.400822</td>\n",
              "      <td>P.S.</td>\n",
              "    </tr>\n",
              "    <tr>\n",
              "      <th>4</th>\n",
              "      <td>5</td>\n",
              "      <td>ADILABAD</td>\n",
              "      <td>Narnoor</td>\n",
              "      <td>Narnoor</td>\n",
              "      <td>19.495665</td>\n",
              "      <td>78.852654</td>\n",
              "      <td>2.15</td>\n",
              "      <td>post monsoon 2019</td>\n",
              "      <td>7.97</td>\n",
              "      <td>735</td>\n",
              "      <td>...</td>\n",
              "      <td>28.0</td>\n",
              "      <td>44.0</td>\n",
              "      <td>16.0</td>\n",
              "      <td>72.0</td>\n",
              "      <td>34.034</td>\n",
              "      <td>319.942434</td>\n",
              "      <td>0.996598</td>\n",
              "      <td>C2S1</td>\n",
              "      <td>0.401151</td>\n",
              "      <td>P.S.</td>\n",
              "    </tr>\n",
              "  </tbody>\n",
              "</table>\n",
              "<p>5 rows × 26 columns</p>\n",
              "</div>\n",
              "    <div class=\"colab-df-buttons\">\n",
              "\n",
              "  <div class=\"colab-df-container\">\n",
              "    <button class=\"colab-df-convert\" onclick=\"convertToInteractive('df-ec17ff05-3d83-4b51-9095-a248b66ef887')\"\n",
              "            title=\"Convert this dataframe to an interactive table.\"\n",
              "            style=\"display:none;\">\n",
              "\n",
              "  <svg xmlns=\"http://www.w3.org/2000/svg\" height=\"24px\" viewBox=\"0 -960 960 960\">\n",
              "    <path d=\"M120-120v-720h720v720H120Zm60-500h600v-160H180v160Zm220 220h160v-160H400v160Zm0 220h160v-160H400v160ZM180-400h160v-160H180v160Zm440 0h160v-160H620v160ZM180-180h160v-160H180v160Zm440 0h160v-160H620v160Z\"/>\n",
              "  </svg>\n",
              "    </button>\n",
              "\n",
              "  <style>\n",
              "    .colab-df-container {\n",
              "      display:flex;\n",
              "      gap: 12px;\n",
              "    }\n",
              "\n",
              "    .colab-df-convert {\n",
              "      background-color: #E8F0FE;\n",
              "      border: none;\n",
              "      border-radius: 50%;\n",
              "      cursor: pointer;\n",
              "      display: none;\n",
              "      fill: #1967D2;\n",
              "      height: 32px;\n",
              "      padding: 0 0 0 0;\n",
              "      width: 32px;\n",
              "    }\n",
              "\n",
              "    .colab-df-convert:hover {\n",
              "      background-color: #E2EBFA;\n",
              "      box-shadow: 0px 1px 2px rgba(60, 64, 67, 0.3), 0px 1px 3px 1px rgba(60, 64, 67, 0.15);\n",
              "      fill: #174EA6;\n",
              "    }\n",
              "\n",
              "    .colab-df-buttons div {\n",
              "      margin-bottom: 4px;\n",
              "    }\n",
              "\n",
              "    [theme=dark] .colab-df-convert {\n",
              "      background-color: #3B4455;\n",
              "      fill: #D2E3FC;\n",
              "    }\n",
              "\n",
              "    [theme=dark] .colab-df-convert:hover {\n",
              "      background-color: #434B5C;\n",
              "      box-shadow: 0px 1px 3px 1px rgba(0, 0, 0, 0.15);\n",
              "      filter: drop-shadow(0px 1px 2px rgba(0, 0, 0, 0.3));\n",
              "      fill: #FFFFFF;\n",
              "    }\n",
              "  </style>\n",
              "\n",
              "    <script>\n",
              "      const buttonEl =\n",
              "        document.querySelector('#df-ec17ff05-3d83-4b51-9095-a248b66ef887 button.colab-df-convert');\n",
              "      buttonEl.style.display =\n",
              "        google.colab.kernel.accessAllowed ? 'block' : 'none';\n",
              "\n",
              "      async function convertToInteractive(key) {\n",
              "        const element = document.querySelector('#df-ec17ff05-3d83-4b51-9095-a248b66ef887');\n",
              "        const dataTable =\n",
              "          await google.colab.kernel.invokeFunction('convertToInteractive',\n",
              "                                                    [key], {});\n",
              "        if (!dataTable) return;\n",
              "\n",
              "        const docLinkHtml = 'Like what you see? Visit the ' +\n",
              "          '<a target=\"_blank\" href=https://colab.research.google.com/notebooks/data_table.ipynb>data table notebook</a>'\n",
              "          + ' to learn more about interactive tables.';\n",
              "        element.innerHTML = '';\n",
              "        dataTable['output_type'] = 'display_data';\n",
              "        await google.colab.output.renderOutput(dataTable, element);\n",
              "        const docLink = document.createElement('div');\n",
              "        docLink.innerHTML = docLinkHtml;\n",
              "        element.appendChild(docLink);\n",
              "      }\n",
              "    </script>\n",
              "  </div>\n",
              "\n",
              "\n",
              "<div id=\"df-02e7cc47-5bab-4230-b591-93fa363fc954\">\n",
              "  <button class=\"colab-df-quickchart\" onclick=\"quickchart('df-02e7cc47-5bab-4230-b591-93fa363fc954')\"\n",
              "            title=\"Suggest charts\"\n",
              "            style=\"display:none;\">\n",
              "\n",
              "<svg xmlns=\"http://www.w3.org/2000/svg\" height=\"24px\"viewBox=\"0 0 24 24\"\n",
              "     width=\"24px\">\n",
              "    <g>\n",
              "        <path d=\"M19 3H5c-1.1 0-2 .9-2 2v14c0 1.1.9 2 2 2h14c1.1 0 2-.9 2-2V5c0-1.1-.9-2-2-2zM9 17H7v-7h2v7zm4 0h-2V7h2v10zm4 0h-2v-4h2v4z\"/>\n",
              "    </g>\n",
              "</svg>\n",
              "  </button>\n",
              "\n",
              "<style>\n",
              "  .colab-df-quickchart {\n",
              "      --bg-color: #E8F0FE;\n",
              "      --fill-color: #1967D2;\n",
              "      --hover-bg-color: #E2EBFA;\n",
              "      --hover-fill-color: #174EA6;\n",
              "      --disabled-fill-color: #AAA;\n",
              "      --disabled-bg-color: #DDD;\n",
              "  }\n",
              "\n",
              "  [theme=dark] .colab-df-quickchart {\n",
              "      --bg-color: #3B4455;\n",
              "      --fill-color: #D2E3FC;\n",
              "      --hover-bg-color: #434B5C;\n",
              "      --hover-fill-color: #FFFFFF;\n",
              "      --disabled-bg-color: #3B4455;\n",
              "      --disabled-fill-color: #666;\n",
              "  }\n",
              "\n",
              "  .colab-df-quickchart {\n",
              "    background-color: var(--bg-color);\n",
              "    border: none;\n",
              "    border-radius: 50%;\n",
              "    cursor: pointer;\n",
              "    display: none;\n",
              "    fill: var(--fill-color);\n",
              "    height: 32px;\n",
              "    padding: 0;\n",
              "    width: 32px;\n",
              "  }\n",
              "\n",
              "  .colab-df-quickchart:hover {\n",
              "    background-color: var(--hover-bg-color);\n",
              "    box-shadow: 0 1px 2px rgba(60, 64, 67, 0.3), 0 1px 3px 1px rgba(60, 64, 67, 0.15);\n",
              "    fill: var(--button-hover-fill-color);\n",
              "  }\n",
              "\n",
              "  .colab-df-quickchart-complete:disabled,\n",
              "  .colab-df-quickchart-complete:disabled:hover {\n",
              "    background-color: var(--disabled-bg-color);\n",
              "    fill: var(--disabled-fill-color);\n",
              "    box-shadow: none;\n",
              "  }\n",
              "\n",
              "  .colab-df-spinner {\n",
              "    border: 2px solid var(--fill-color);\n",
              "    border-color: transparent;\n",
              "    border-bottom-color: var(--fill-color);\n",
              "    animation:\n",
              "      spin 1s steps(1) infinite;\n",
              "  }\n",
              "\n",
              "  @keyframes spin {\n",
              "    0% {\n",
              "      border-color: transparent;\n",
              "      border-bottom-color: var(--fill-color);\n",
              "      border-left-color: var(--fill-color);\n",
              "    }\n",
              "    20% {\n",
              "      border-color: transparent;\n",
              "      border-left-color: var(--fill-color);\n",
              "      border-top-color: var(--fill-color);\n",
              "    }\n",
              "    30% {\n",
              "      border-color: transparent;\n",
              "      border-left-color: var(--fill-color);\n",
              "      border-top-color: var(--fill-color);\n",
              "      border-right-color: var(--fill-color);\n",
              "    }\n",
              "    40% {\n",
              "      border-color: transparent;\n",
              "      border-right-color: var(--fill-color);\n",
              "      border-top-color: var(--fill-color);\n",
              "    }\n",
              "    60% {\n",
              "      border-color: transparent;\n",
              "      border-right-color: var(--fill-color);\n",
              "    }\n",
              "    80% {\n",
              "      border-color: transparent;\n",
              "      border-right-color: var(--fill-color);\n",
              "      border-bottom-color: var(--fill-color);\n",
              "    }\n",
              "    90% {\n",
              "      border-color: transparent;\n",
              "      border-bottom-color: var(--fill-color);\n",
              "    }\n",
              "  }\n",
              "</style>\n",
              "\n",
              "  <script>\n",
              "    async function quickchart(key) {\n",
              "      const quickchartButtonEl =\n",
              "        document.querySelector('#' + key + ' button');\n",
              "      quickchartButtonEl.disabled = true;  // To prevent multiple clicks.\n",
              "      quickchartButtonEl.classList.add('colab-df-spinner');\n",
              "      try {\n",
              "        const charts = await google.colab.kernel.invokeFunction(\n",
              "            'suggestCharts', [key], {});\n",
              "      } catch (error) {\n",
              "        console.error('Error during call to suggestCharts:', error);\n",
              "      }\n",
              "      quickchartButtonEl.classList.remove('colab-df-spinner');\n",
              "      quickchartButtonEl.classList.add('colab-df-quickchart-complete');\n",
              "    }\n",
              "    (() => {\n",
              "      let quickchartButtonEl =\n",
              "        document.querySelector('#df-02e7cc47-5bab-4230-b591-93fa363fc954 button');\n",
              "      quickchartButtonEl.style.display =\n",
              "        google.colab.kernel.accessAllowed ? 'block' : 'none';\n",
              "    })();\n",
              "  </script>\n",
              "</div>\n",
              "\n",
              "    </div>\n",
              "  </div>\n"
            ],
            "application/vnd.google.colaboratory.intrinsic+json": {
              "type": "dataframe",
              "variable_name": "df_2"
            }
          },
          "metadata": {},
          "execution_count": 12
        }
      ],
      "source": [
        "df_2.head()"
      ]
    },
    {
      "cell_type": "code",
      "execution_count": null,
      "metadata": {
        "colab": {
          "base_uri": "https://localhost:8080/"
        },
        "id": "OHS7TtypGAgN",
        "outputId": "9fac7de2-5c48-490b-8fd9-363c82f57b2e"
      },
      "outputs": [
        {
          "output_type": "execute_result",
          "data": {
            "text/plain": [
              "(364, 26)"
            ]
          },
          "metadata": {},
          "execution_count": 13
        }
      ],
      "source": [
        "df_2.shape"
      ]
    },
    {
      "cell_type": "code",
      "execution_count": null,
      "metadata": {
        "colab": {
          "base_uri": "https://localhost:8080/"
        },
        "id": "7b1wl8xfA_8G",
        "outputId": "5b2a83c7-06b4-4588-ed5d-aac3d1a26b1f"
      },
      "outputs": [
        {
          "output_type": "execute_result",
          "data": {
            "text/plain": [
              "sno                   0\n",
              "district              0\n",
              "mandal                0\n",
              "village               0\n",
              "lat_gis               0\n",
              "long_gis              0\n",
              "gwl                   5\n",
              "season                0\n",
              "pH                    0\n",
              "EC                    0\n",
              "TDS                   0\n",
              "CO_-2               160\n",
              "HCO_ -                0\n",
              "Cl -                  0\n",
              "F -                   0\n",
              "NO3-                  0\n",
              "SO4-2                 0\n",
              "Na+                   0\n",
              "K+                    0\n",
              "Ca+2                  0\n",
              "Mg+2                  0\n",
              "T.H                   0\n",
              "SAR                   0\n",
              "Classification        0\n",
              "RSC  meq  / L         0\n",
              "Classification.1      0\n",
              "dtype: int64"
            ]
          },
          "metadata": {},
          "execution_count": 14
        }
      ],
      "source": [
        "df_2.isnull().sum()"
      ]
    },
    {
      "cell_type": "code",
      "execution_count": null,
      "metadata": {
        "id": "_uwWy6qoGxgy"
      },
      "outputs": [],
      "source": [
        "replaced_names={'CO_-2 ':'CO3', 'HCO_ - ':'HCO3', 'Cl -':'Cl', 'F -':'F','NO3- ':'NO3 ', 'SO4-2':'SO4', 'Na+':'Na', 'K+':'K', 'Ca+2':'Ca', 'Mg+2':'Mg','EC':'E.C'}\n",
        "df_2.rename(columns=replaced_names,inplace=True)"
      ]
    },
    {
      "cell_type": "code",
      "execution_count": null,
      "metadata": {
        "id": "LUaORI0dA_56"
      },
      "outputs": [],
      "source": [
        "df_2.fillna(df_2.mean(), inplace=True)"
      ]
    },
    {
      "cell_type": "code",
      "execution_count": null,
      "metadata": {
        "id": "4wGFtD65hJei"
      },
      "outputs": [],
      "source": [
        "df_3.head()"
      ]
    },
    {
      "cell_type": "code",
      "execution_count": null,
      "metadata": {
        "id": "HKw-_KjNoUlK"
      },
      "outputs": [],
      "source": [
        "df_3.shape"
      ]
    },
    {
      "cell_type": "code",
      "execution_count": null,
      "metadata": {
        "id": "wLO5mmCnhNsJ"
      },
      "outputs": [],
      "source": [
        "df_3.isnull().sum()"
      ]
    },
    {
      "cell_type": "code",
      "execution_count": null,
      "metadata": {
        "id": "9VB-OzpbHR8H"
      },
      "outputs": [],
      "source": [
        "df_3.drop('Unnamed: 8',axis=1,inplace=True)"
      ]
    },
    {
      "cell_type": "code",
      "execution_count": null,
      "metadata": {
        "id": "55Sv2GaLhQj8"
      },
      "outputs": [],
      "source": [
        "df_3.fillna(df_3.mean(), inplace=True)"
      ]
    },
    {
      "cell_type": "code",
      "execution_count": null,
      "metadata": {
        "id": "4VMCDtPjuptS"
      },
      "outputs": [],
      "source": [
        "df=pd.concat([df_1,df_2,df_3])"
      ]
    },
    {
      "cell_type": "code",
      "execution_count": null,
      "metadata": {
        "id": "bRgUaV32k_m5"
      },
      "outputs": [],
      "source": [
        "df.head()"
      ]
    },
    {
      "cell_type": "code",
      "execution_count": null,
      "metadata": {
        "id": "56EovZQxoZoZ"
      },
      "outputs": [],
      "source": [
        "df.shape"
      ]
    },
    {
      "cell_type": "code",
      "execution_count": null,
      "metadata": {
        "id": "kruvHjoTn0ti"
      },
      "outputs": [],
      "source": [
        "df.isnull().sum()"
      ]
    },
    {
      "cell_type": "code",
      "execution_count": null,
      "metadata": {
        "id": "4TgnkhsgJMuN"
      },
      "outputs": [],
      "source": [
        "df['Classification'].unique()"
      ]
    },
    {
      "cell_type": "code",
      "execution_count": null,
      "metadata": {
        "id": "fUmL51_7JYA5"
      },
      "outputs": [],
      "source": [
        "df['Classification']=df['Classification'].replace({'O.G':'OG'})"
      ]
    },
    {
      "cell_type": "code",
      "execution_count": null,
      "metadata": {
        "id": "MkopiSftJ-iX"
      },
      "outputs": [],
      "source": [
        "numcol=['lat_gis', 'long_gis', 'gwl','pH', 'E.C', 'TDS', 'CO3', 'HCO3', 'Cl', 'F', 'NO3 ', 'SO4',\n",
        "       'Na', 'K', 'Ca', 'Mg', 'T.H', 'SAR', 'RSC  meq  / L']"
      ]
    },
    {
      "cell_type": "code",
      "execution_count": null,
      "metadata": {
        "id": "xOBSyePKKmKb"
      },
      "outputs": [],
      "source": [
        "df.loc[261,'pH']=8.05\n",
        "df['pH']=df['pH'].astype(float)"
      ]
    },
    {
      "cell_type": "code",
      "execution_count": null,
      "metadata": {
        "id": "JOPZstA6JlNz"
      },
      "outputs": [],
      "source": [
        "# @title EXPLORATORY DATA ANALYSIS\n",
        "fig = plt.figure(figsize=(25,30))\n",
        "for i in range(len(numcol)):\n",
        "    plt.subplot(7,3,i+1)\n",
        "    plt.title(numcol[i])\n",
        "    sns.scatterplot(data=df,x=df['E.C'],y=df[numcol[i]],hue=df['Classification'])\n",
        "plt.tight_layout()\n",
        "plt.show()"
      ]
    },
    {
      "cell_type": "code",
      "execution_count": null,
      "metadata": {
        "id": "CmBbuyWtKe2Y"
      },
      "outputs": [],
      "source": [
        "fig = plt.figure(figsize=(25,30))\n",
        "\n",
        "for i in range(len(numcol)):\n",
        "    plt.subplot(7,3,i+1)\n",
        "    plt.title(numcol[i])\n",
        "    sns.scatterplot(data=df,x=df['SAR'],y=df[numcol[i]],hue=df['Classification'])\n",
        "plt.tight_layout()\n",
        "plt.show()"
      ]
    },
    {
      "cell_type": "code",
      "execution_count": null,
      "metadata": {
        "id": "NU_TWCxXMkQK"
      },
      "outputs": [],
      "source": [
        "fig = plt.figure(figsize=(25,25))\n",
        "for i in range(len(numcol)):\n",
        "    plt.subplot(7,3,i+1)\n",
        "    sns.histplot(data=df,x=df[numcol[i]],kde=True)\n",
        "plt.tight_layout()\n",
        "plt.show()"
      ]
    },
    {
      "cell_type": "code",
      "execution_count": null,
      "metadata": {
        "id": "M5RJ2MUuMyzk"
      },
      "outputs": [],
      "source": [
        "var_features=[ 'gwl','E.C', 'TDS','CO3', 'HCO3', 'Cl', 'F', 'NO3 ', 'SO4',\n",
        "       'Na', 'K', 'Ca', 'Mg', 'T.H', 'SAR']"
      ]
    },
    {
      "cell_type": "code",
      "execution_count": null,
      "metadata": {
        "id": "m6p43nQZRnqo"
      },
      "outputs": [],
      "source": [
        "\n",
        "mmsl=MinMaxScaler()\n",
        "mmsl.fit(df[numcol])"
      ]
    },
    {
      "cell_type": "code",
      "execution_count": null,
      "metadata": {
        "id": "yq_LByhDRzIY"
      },
      "outputs": [],
      "source": [
        "df[var_features]=np.log1p(df[var_features])"
      ]
    },
    {
      "cell_type": "code",
      "execution_count": null,
      "metadata": {
        "id": "Sfx556ppSoY3"
      },
      "outputs": [],
      "source": [
        "fig = plt.figure(figsize=(25,25))\n",
        "for i in range(len(var_features)):\n",
        "    plt.subplot(5,3,i+1)\n",
        "    sns.histplot(data=df,x=var_features[i],kde=True)\n",
        "plt.tight_layout()\n",
        "plt.show()"
      ]
    },
    {
      "cell_type": "code",
      "execution_count": null,
      "metadata": {
        "id": "lx1rvpgNSrhc"
      },
      "outputs": [],
      "source": [
        "df['Classification'].unique()"
      ]
    },
    {
      "cell_type": "code",
      "execution_count": null,
      "metadata": {
        "id": "evOqb2pDS4qG"
      },
      "outputs": [],
      "source": [
        "df=df[df['Classification']!='OG']"
      ]
    },
    {
      "cell_type": "code",
      "execution_count": null,
      "metadata": {
        "id": "iHM1JD2fS-p9"
      },
      "outputs": [],
      "source": [
        "df['Classification'] = df['Classification'].replace(['C2S1', 'C3S1', 'C4S2', 'C4S1', 'C3S2', 'C4S4', 'C4S3', 'C1S1','C3S4', 'C3S3', 'C2S2'],[0,1,2,3,4,5,6,7,8,9,10])"
      ]
    },
    {
      "cell_type": "code",
      "execution_count": null,
      "metadata": {
        "id": "4bNtephsTSzo"
      },
      "outputs": [],
      "source": [
        "df.groupby('Classification')['sno'].count()"
      ]
    },
    {
      "cell_type": "code",
      "execution_count": null,
      "metadata": {
        "id": "SQEFU7WuTYXL"
      },
      "outputs": [],
      "source": [
        "X=df.drop(['sno','Classification','district','mandal','village','E.C','SAR','Classification.1','TDS'],axis=1)\n",
        "y=df['Classification']"
      ]
    },
    {
      "cell_type": "code",
      "execution_count": null,
      "metadata": {
        "id": "x7MK58TRzD1V"
      },
      "outputs": [],
      "source": [
        "y.unique()"
      ]
    },
    {
      "cell_type": "code",
      "execution_count": null,
      "metadata": {
        "id": "EA6VX6BIT2nk"
      },
      "outputs": [],
      "source": [
        "X=pd.get_dummies(X)"
      ]
    },
    {
      "cell_type": "code",
      "execution_count": null,
      "metadata": {
        "id": "_NRV-IG5T5aq"
      },
      "outputs": [],
      "source": [
        "X.head()"
      ]
    },
    {
      "cell_type": "code",
      "execution_count": null,
      "metadata": {
        "id": "gjfctHimT6ds"
      },
      "outputs": [],
      "source": [
        "# @title MODEL 1 K NEAREST NEIGHBOUR CLASSIFIER - FOR CLASSIFICATION\n",
        "\n",
        "y=df['Classification']\n",
        "\n",
        "X_train,X_test,y_train,y_test=train_test_split(X,y,test_size=0.3,random_state=42)"
      ]
    },
    {
      "cell_type": "code",
      "execution_count": null,
      "metadata": {
        "id": "DE7F1nhll2Fi"
      },
      "outputs": [],
      "source": [
        "\n",
        "kindex=[3,7,11,15,19,23,27,31,35,39 ]\n",
        "accu_knn_1 = []\n",
        "for k in kindex :\n",
        "  knn = KNeighborsClassifier(k)\n",
        "\n",
        "  knn.fit(X_train, y_train)\n",
        "\n",
        "  y_pred_knn = knn.predict(X_test)\n",
        "\n",
        "  acc_knn = accuracy_score(y_test, y_pred_knn)\n",
        "  conf_knn_1 = confusion_matrix(y_test, y_pred_knn)\n",
        "  # clf_report = classification_report(y1_test, y1_pred_knn)\n",
        "  accu_knn_1.append(acc_knn)\n",
        "  # print(f\"Accuracy Score of KNN is : {acc_knn}\")\n",
        "  # print(f\"Confusion Matrix : \\n{conf}\")\n",
        "  # print(f\"Classification Report : \\n{clf_report}\")"
      ]
    },
    {
      "cell_type": "code",
      "execution_count": null,
      "metadata": {
        "id": "KQ_LUsEUW75J"
      },
      "outputs": [],
      "source": [
        "conf_knn_1"
      ]
    },
    {
      "cell_type": "code",
      "execution_count": null,
      "metadata": {
        "id": "LnfcR__Kl2QI"
      },
      "outputs": [],
      "source": [
        "accu_knn_1"
      ]
    },
    {
      "cell_type": "code",
      "execution_count": null,
      "metadata": {
        "id": "Unolp8gdmRr8"
      },
      "outputs": [],
      "source": [
        "# Plotting the graph\n",
        "plt.figure(figsize=(8, 5))\n",
        "plt.plot(kindex, accu_knn_1, marker='o', linestyle='-', color='b')\n",
        "plt.title('Accuracy vs. k Values')\n",
        "plt.xlabel('k Values')\n",
        "plt.ylabel('Accuracy of Classification')\n",
        "plt.grid(True)\n",
        "plt.xticks(kindex)\n",
        "plt.yticks(accu_knn_1)\n",
        "\n",
        "plt.show()\n"
      ]
    },
    {
      "cell_type": "code",
      "execution_count": null,
      "metadata": {
        "id": "jbobwBI0RVkm"
      },
      "outputs": [],
      "source": [
        "cm_matrix = pd.DataFrame(data=conf_knn_1, columns=['C2S1', 'C3S1', 'C4S2', 'C4S1', 'C3S2', 'C4S4', 'C4S3', 'C3S4', 'C3S3', 'C2S2'],\n",
        "                         index=['C2S1', 'C3S1', 'C4S2', 'C4S1', 'C3S2', 'C4S4', 'C4S3', 'C3S4', 'C3S3', 'C2S2'])\n",
        "plt.figure(figsize=(10, 7))\n",
        "sns.heatmap(cm_matrix, annot=True)\n",
        "plt.xlabel(\"Prediction\", fontsize=10)\n",
        "plt.ylabel(\"Actual\", fontsize=10)\n",
        "\n"
      ]
    },
    {
      "cell_type": "code",
      "execution_count": null,
      "metadata": {
        "id": "zrb2Fg_VRbms"
      },
      "outputs": [],
      "source": [
        "y_test.value_counts()"
      ]
    },
    {
      "cell_type": "code",
      "execution_count": null,
      "metadata": {
        "id": "B_1NRVC3qhS6"
      },
      "outputs": [],
      "source": [
        "# @title MODEL 1 K NEAREST NEIGHBOUR CLASSIFIER -FOR CLASSIFICATION.1\n",
        "y=df['Classification.1']"
      ]
    },
    {
      "cell_type": "code",
      "execution_count": null,
      "metadata": {
        "id": "OOAt6H-crLCu"
      },
      "outputs": [],
      "source": [
        "df['Classification.1'] = df['Classification.1'].replace(['P.S.','U.S.','MR'],[0,1,2])"
      ]
    },
    {
      "cell_type": "code",
      "execution_count": null,
      "metadata": {
        "id": "NySDfDPQrRFa"
      },
      "outputs": [],
      "source": [
        "df.groupby('Classification.1')['sno'].count()"
      ]
    },
    {
      "cell_type": "code",
      "execution_count": null,
      "metadata": {
        "id": "4NsjA9rTmV9A"
      },
      "outputs": [],
      "source": [
        "y=df['Classification.1']\n",
        "X_train,X_test,y_train,y_test=train_test_split(X,y,test_size=0.3,random_state=42)"
      ]
    },
    {
      "cell_type": "code",
      "execution_count": null,
      "metadata": {
        "id": "dx8LjjbKmWBP"
      },
      "outputs": [],
      "source": [
        "kindex=[3,7,11,15,19,23,27,31,35,39 ]\n",
        "accu_knn_2 = []\n",
        "for k in kindex :\n",
        "  knn1 = KNeighborsClassifier(k)\n",
        "\n",
        "  knn1.fit(X_train, y_train)\n",
        "\n",
        "  y_pred_knn = knn1.predict(X_test)\n",
        "\n",
        "  acc_knn = accuracy_score(y_test, y_pred_knn)\n",
        "  conf_knn = confusion_matrix(y_test, y_pred_knn)\n",
        "  # clf_report = classification_report(y2_test, y2_pred_knn)\n",
        "  accu_knn_2.append(acc_knn)"
      ]
    },
    {
      "cell_type": "code",
      "execution_count": null,
      "metadata": {
        "id": "91jEMJQrmWGH"
      },
      "outputs": [],
      "source": [
        "accu_knn_2"
      ]
    },
    {
      "cell_type": "code",
      "execution_count": null,
      "metadata": {
        "id": "POFwSYw3mR38"
      },
      "outputs": [],
      "source": [
        "# Plotting the graph\n",
        "plt.figure(figsize=(8, 5))\n",
        "plt.plot(kindex, accu_knn_2, marker='o', linestyle='-', color='b')\n",
        "plt.title('Accuracy vs. k Values')\n",
        "plt.xlabel('k Values')\n",
        "plt.ylabel('Accuracy')\n",
        "plt.grid(True)\n",
        "plt.xticks(kindex)\n",
        "plt.yticks(accu_knn_2)\n",
        "\n",
        "plt.show()\n"
      ]
    },
    {
      "cell_type": "code",
      "execution_count": null,
      "metadata": {
        "id": "3-mujw8BKbp2"
      },
      "outputs": [],
      "source": []
    },
    {
      "cell_type": "code",
      "execution_count": null,
      "metadata": {
        "id": "BIrdhbEuLTFr"
      },
      "outputs": [],
      "source": [
        "cm_matrix = pd.DataFrame(data=conf_knn, columns=['PS', 'US','MR'],index=['PS', 'US','MR'])\n",
        "sns.heatmap(cm_matrix, annot=True)\n",
        "plt.xlabel(\"Prediction\", fontsize=10)\n",
        "plt.ylabel(\"Actual\", fontsize=10)"
      ]
    },
    {
      "cell_type": "code",
      "execution_count": null,
      "metadata": {
        "id": "Wa4f7lbOu_B0"
      },
      "outputs": [],
      "source": [
        "# @title MODEL 2  LOGISTIC REGRESSION - FOR CLASSIFICATION\n",
        "\n",
        "y=df['Classification']\n",
        "X_train,X_test,y_train,y_test=train_test_split(X,y,test_size=0.3,random_state=42)"
      ]
    },
    {
      "cell_type": "code",
      "execution_count": null,
      "metadata": {
        "id": "K5vdm0C-Ufpt"
      },
      "outputs": [],
      "source": [
        "logreg=LogisticRegression(max_iter=20000, multi_class='multinomial')\n",
        "logreg.fit(X_train,y_train)\n",
        "y_pred_logreg=logreg.predict(X_test)\n",
        "acc_logreg=accuracy_score(y_test,y_pred_logreg)\n",
        "conf=confusion_matrix(y_test,y_pred_logreg)\n",
        "clf_report= classification_report(y_test,y_pred_logreg)\n",
        "print(f'Accuracy Score of Logistic Regression is: {acc_logreg}')\n",
        "print(f'Confusion Matrix:\\n{conf}')\n",
        "print(f'Classification Report: \\n{clf_report}')\n"
      ]
    },
    {
      "cell_type": "code",
      "execution_count": null,
      "metadata": {
        "id": "59275NQmWVv3"
      },
      "outputs": [],
      "source": [
        "cm_matrix = pd.DataFrame(data=conf, columns=['C2S1', 'C3S1', 'C4S2', 'C4S1', 'C3S2', 'C4S4', 'C4S3', 'C1S1','C3S4', 'C3S3', 'C2S2'],\n",
        "                         index=['C2S1', 'C3S1', 'C4S2', 'C4S1', 'C3S2', 'C4S4', 'C4S3', 'C1S1', 'C3S4', 'C3S3', 'C2S2'])\n",
        "sns.heatmap(cm_matrix, annot=True)\n",
        "plt.xlabel(\"Prediction\", fontsize=10)\n",
        "plt.ylabel(\"Actual\", fontsize=10)\n",
        "\n"
      ]
    },
    {
      "cell_type": "code",
      "execution_count": null,
      "metadata": {
        "id": "2EnKG2lQNnKH"
      },
      "outputs": [],
      "source": []
    },
    {
      "cell_type": "code",
      "execution_count": null,
      "metadata": {
        "id": "5RBiz77Stugn"
      },
      "outputs": [],
      "source": [
        "# @title MODEL 2 LOGISTIC REGRESSION  - FOR CLASSIFICATION.1\n",
        "df['Classification.1'].unique()"
      ]
    },
    {
      "cell_type": "code",
      "execution_count": null,
      "metadata": {
        "id": "gkcMZXlkty9W"
      },
      "outputs": [],
      "source": [
        "df['Classification.1'] = df['Classification.1'].replace(['P.S.','U.S.','MR'],[0,1,2])"
      ]
    },
    {
      "cell_type": "code",
      "execution_count": null,
      "metadata": {
        "id": "dMP1Q-Zmt2xx"
      },
      "outputs": [],
      "source": [
        "df.groupby('Classification.1')['sno'].count()"
      ]
    },
    {
      "cell_type": "code",
      "execution_count": null,
      "metadata": {
        "id": "CvS0bLNat8L1"
      },
      "outputs": [],
      "source": [
        "y=df['Classification.1']\n",
        "X_train,X_test,y_train,y_test=train_test_split(X,y,test_size=0.3,random_state=42)"
      ]
    },
    {
      "cell_type": "code",
      "execution_count": null,
      "metadata": {
        "id": "CW1y7wXct_3R"
      },
      "outputs": [],
      "source": [
        "logreg_2=LogisticRegression(max_iter=5000)\n",
        "logreg_2.fit(X_train,y_train)\n",
        "y_pred_logreg_2=logreg_2.predict(X_test)\n",
        "acc_logreg_2=accuracy_score(y_test,y_pred_logreg_2)\n",
        "conf_2=confusion_matrix(y_test,y_pred_logreg_2)\n",
        "clf_report_2= classification_report(y_test,y_pred_logreg_2)\n",
        "print(f'Accuracy Score of Logistic Regression is: {acc_logreg_2}')\n",
        "print(f'Confusion Matrix:\\n{conf_2}')\n",
        "print(f'Classification Report: \\n{clf_report_2}')"
      ]
    },
    {
      "cell_type": "code",
      "execution_count": null,
      "metadata": {
        "id": "ROjTsRDvuGr4"
      },
      "outputs": [],
      "source": [
        "cm_matrix = pd.DataFrame(data=conf_2, columns=['a', 'b','c'],index=['a', 'b','c'])\n",
        "sns.heatmap(cm_matrix, annot=True)\n",
        "plt.xlabel(\"Prediction\", fontsize=10)\n",
        "plt.ylabel(\"Actual\", fontsize=10)"
      ]
    },
    {
      "cell_type": "code",
      "execution_count": null,
      "metadata": {
        "id": "r8Q1YhM0x3B4"
      },
      "outputs": [],
      "source": []
    },
    {
      "cell_type": "code",
      "execution_count": null,
      "metadata": {
        "id": "BlLJgQb9x3PV"
      },
      "outputs": [],
      "source": []
    },
    {
      "cell_type": "code",
      "execution_count": null,
      "metadata": {
        "id": "Uprb2C1jx3Yn"
      },
      "outputs": [],
      "source": [
        "# @title MODEL 3 SUPPORT VECTOR MACHINE (SVM) - FOR CLASSIFICATION"
      ]
    },
    {
      "cell_type": "code",
      "execution_count": null,
      "metadata": {
        "id": "c1LKHNG09-75"
      },
      "outputs": [],
      "source": [
        "\n",
        "y=df['Classification']\n",
        "X_train,X_test,y_train,y_test=train_test_split(X,y,test_size=0.3,random_state=42)"
      ]
    },
    {
      "cell_type": "code",
      "execution_count": null,
      "metadata": {
        "id": "QZ2KV9YZd0Us"
      },
      "outputs": [],
      "source": [
        "\n",
        "\n",
        "# Initialize SVM classifiers with different kernels\n",
        "svm_linear = SVC(kernel='linear', random_state=42)\n",
        "svm_poly = SVC(kernel='poly', degree=3, random_state=42)\n",
        "svm_rbf = SVC(kernel='rbf', random_state=42)\n",
        "svm_sigmoid = SVC(kernel='sigmoid', random_state=42)\n",
        "\n",
        "# Fit the models on the training data\n",
        "svm_linear.fit(X_train, y_train)\n",
        "svm_poly.fit(X_train, y_train)\n",
        "svm_rbf.fit(X_train, y_train)\n",
        "svm_sigmoid.fit(X_train, y_train)\n",
        "\n",
        "# Evaluate the models\n",
        "linear_accuracy = svm_linear.score(X_test, y_test)\n",
        "poly_accuracy = svm_poly.score(X_test, y_test)\n",
        "rbf_accuracy = svm_rbf.score(X_test, y_test)\n",
        "sigmoid_accuracy = svm_sigmoid.score(X_test, y_test)\n",
        "\n",
        "print(\"Linear Kernel Accuracy:\", linear_accuracy)\n",
        "print(\"Polynomial Kernel Accuracy:\", poly_accuracy)\n",
        "print(\"RBF Kernel Accuracy:\", rbf_accuracy)\n",
        "print(\"Sigmoid Kernel Accuracy:\", sigmoid_accuracy)\n"
      ]
    },
    {
      "cell_type": "code",
      "execution_count": null,
      "metadata": {
        "id": "dMp6gy9-kbkq"
      },
      "outputs": [],
      "source": [
        "\n",
        "\n",
        "\n",
        "linear_predictions = svm_linear.predict(X_test)\n",
        "poly_predictions = svm_poly.predict(X_test)\n",
        "rbf_predictions = svm_rbf.predict(X_test)\n",
        "sigmoid_predictions = svm_sigmoid.predict(X_test)\n",
        "\n",
        "# Calculate precision, recall, F1-score\n",
        "linear_precision = precision_score(y_test, linear_predictions, average='weighted',zero_division=0)\n",
        "linear_recall = recall_score(y_test, linear_predictions, average='weighted',zero_division=0)\n",
        "linear_f1 = f1_score(y_test, linear_predictions, average='weighted',zero_division=0)\n",
        "linear_classification_report = classification_report(y_test, linear_predictions, zero_division=0)\n",
        "\n",
        "poly_precision = precision_score(y_test, poly_predictions, average='weighted',zero_division=0)\n",
        "poly_recall = recall_score(y_test, poly_predictions, average='weighted',zero_division=0)\n",
        "poly_f1 = f1_score(y_test, poly_predictions, average='weighted',zero_division=0)\n",
        "poly_classification_report = classification_report(y_test, poly_predictions, zero_division=0)\n",
        "\n",
        "rbf_precision = precision_score(y_test, rbf_predictions, average='weighted',zero_division=0)\n",
        "rbf_recall = recall_score(y_test, rbf_predictions, average='weighted',zero_division=0)\n",
        "rbf_f1 = f1_score(y_test, rbf_predictions, average='weighted',zero_division=0)\n",
        "rbf_classification_report = classification_report(y_test, rbf_predictions, zero_division=0)\n",
        "\n",
        "sigmoid_precision = precision_score(y_test, sigmoid_predictions, average='weighted',zero_division=0)\n",
        "sigmoid_recall = recall_score(y_test, sigmoid_predictions, average='weighted',zero_division=0)\n",
        "sigmoid_f1 = f1_score(y_test, sigmoid_predictions, average='weighted',zero_division=0)\n",
        "sigmoid_classification_report = classification_report(y_test, sigmoid_predictions, zero_division=0)\n",
        "\n",
        "\n",
        "print(\"Linear Kernel Metrics:\")\n",
        "print(f\"Precision: {linear_precision}\")\n",
        "print(f\"Recall: {linear_recall}\")\n",
        "print(f\"F1-score: {linear_f1}\")\n",
        "print(\"Classification Report:\")\n",
        "print(linear_classification_report)\n",
        "\n",
        "\n"
      ]
    },
    {
      "cell_type": "code",
      "execution_count": null,
      "metadata": {
        "id": "6yi8_pf7ilVt"
      },
      "outputs": [],
      "source": [
        "\n",
        "\n",
        "# parameter grids for RBF and sigmoid kernels\n",
        "param_grid_rbf = {'C': [0.1, 1, 10, 100], 'gamma': [0.1, 0.01, 0.001]}  # Tuning C and gamma\n",
        "param_grid_sigmoid = {'C': [0.1, 1, 10, 100], 'gamma': [0.1, 0.01, 0.001]}\n"
      ]
    },
    {
      "cell_type": "code",
      "execution_count": null,
      "metadata": {
        "id": "UUe4zMksinRM"
      },
      "outputs": [],
      "source": [
        "\n",
        "\n",
        "# parameters grid for each kernel\n",
        "param_grid_linear = {'C': [0.1, 1, 10, 100]}  # linear kernel\n",
        "param_grid_poly = {'C': [0.1, 1, 10, 100], 'degree': [2, 3, 4]}  #  polynomial kernel\n",
        "param_grid_rbf = {'C': [0.1, 1, 10, 100], 'gamma': [0.1, 0.01, 0.001]}  # RBF kernel\n",
        "param_grid_sigmoid = {'C': [0.1, 1, 10, 100], 'gamma': [0.1, 0.01, 0.001]}  # sigmoid kernel\n",
        "\n",
        "\n",
        "# Perform grid search with cross-validation for each SVM model\n",
        "grid_linear = GridSearchCV(svm_linear, param_grid_linear, cv=5)\n",
        "grid_poly = GridSearchCV(svm_poly, param_grid_poly, cv=5)\n",
        "grid_rbf = GridSearchCV(svm_rbf, param_grid_rbf, cv=5)\n",
        "grid_sigmoid = GridSearchCV(svm_sigmoid, param_grid_sigmoid, cv=5)\n",
        "\n",
        "# Fit the models on the training data\n",
        "grid_linear.fit(X_train, y_train)\n",
        "grid_poly.fit(X_train, y_train)\n",
        "grid_rbf.fit(X_train, y_train)\n",
        "grid_sigmoid.fit(X_train, y_train)\n",
        "\n",
        "# Best parameters and accuracy scores for each kernel\n",
        "print(\"Best parameters for linear kernel:\", grid_linear.best_params_)\n",
        "print(\"Linear Kernel Accuracy:\", grid_linear.best_score_)\n",
        "\n",
        "print(\"Best parameters for polynomial kernel:\", grid_poly.best_params_)\n",
        "print(\"Polynomial Kernel Accuracy:\", grid_poly.best_score_)\n",
        "\n",
        "print(\"Best parameters for RBF kernel:\", grid_rbf.best_params_)\n",
        "print(\"RBF Kernel Accuracy:\", grid_rbf.best_score_)\n",
        "\n",
        "print(\"Best parameters for sigmoid kernel:\", grid_sigmoid.best_params_)\n",
        "print(\"Sigmoid Kernel Accuracy:\", grid_sigmoid.best_score_)\n"
      ]
    },
    {
      "cell_type": "code",
      "execution_count": null,
      "metadata": {
        "id": "ON3rpfS9J0Vk"
      },
      "outputs": [],
      "source": [
        "linear_predictions_2= grid_linear.predict(X_test)\n",
        "poly_predictions_2 = grid_poly.predict(X_test)\n",
        "rbf_predictions_2 = grid_rbf.predict(X_test)\n",
        "sigmoid_predictions_2 = grid_sigmoid.predict(X_test)\n",
        "conf=confusion_matrix(y_test,y_pred_logreg)"
      ]
    },
    {
      "cell_type": "code",
      "execution_count": null,
      "metadata": {
        "id": "synn13twJQmM"
      },
      "outputs": [],
      "source": [
        "conf_rbf=confusion_matrix(y_test,rbf_predictions_2)"
      ]
    },
    {
      "cell_type": "code",
      "execution_count": null,
      "metadata": {
        "id": "_DintVHvV52Z"
      },
      "outputs": [],
      "source": [
        "cm_matrix = pd.DataFrame(data=conf_rbf, columns=['C2S1', 'C3S1', 'C4S2', 'C4S1', 'C3S2', 'C4S4', 'C4S3', 'C3S4', 'C3S3', 'C2S2'],\n",
        "                         index=['C2S1', 'C3S1', 'C4S2', 'C4S1', 'C3S2', 'C4S4', 'C4S3', 'C3S4', 'C3S3', 'C2S2'])\n",
        "plt.figure(figsize=(10, 7))\n",
        "sns.heatmap(cm_matrix, annot=True)\n",
        "plt.xlabel(\"Prediction\", fontsize=10)\n",
        "plt.ylabel(\"Actual\", fontsize=10)\n",
        "\n"
      ]
    },
    {
      "cell_type": "code",
      "execution_count": null,
      "metadata": {
        "id": "ZUWpoDOsQLxa"
      },
      "outputs": [],
      "source": [
        "conf_linear=confusion_matrix(y_test,linear_predictions_2)\n"
      ]
    },
    {
      "cell_type": "code",
      "execution_count": null,
      "metadata": {
        "id": "_XAbqD8CV3Ln"
      },
      "outputs": [],
      "source": [
        "print(conf_linear)"
      ]
    },
    {
      "cell_type": "code",
      "execution_count": null,
      "metadata": {
        "id": "79f5PWd8VbN-"
      },
      "outputs": [],
      "source": [
        "cm_matrix = pd.DataFrame(data=conf_linear, columns=['C2S1', 'C3S1', 'C4S2', 'C4S1', 'C3S2', 'C4S4', 'C4S3', 'C1S1','C3S4', 'C3S3', 'C2S2'],\n",
        "                         index=['C2S1', 'C3S1', 'C4S2', 'C4S1', 'C3S2', 'C4S4', 'C4S3', 'C1S1', 'C3S4', 'C3S3', 'C2S2'])\n",
        "plt.figure(figsize=(10, 7))\n",
        "sns.heatmap(cm_matrix, annot=True)\n",
        "plt.xlabel(\"Prediction\", fontsize=10)\n",
        "plt.ylabel(\"Actual\", fontsize=10)\n",
        "\n"
      ]
    },
    {
      "cell_type": "code",
      "execution_count": null,
      "metadata": {
        "id": "QIuPY03Ntr4f"
      },
      "outputs": [],
      "source": [
        "# @title MODEL 3 SUPPOERT VECTOR MACHINE - FOR CLASSIFICATION.1\n",
        "#SVM"
      ]
    },
    {
      "cell_type": "code",
      "execution_count": null,
      "metadata": {
        "id": "q-8puwEbNG37"
      },
      "outputs": [],
      "source": [
        "X1=df.drop(['sno','Classification','district','mandal','village','E.C','SAR','Classification.1','TDS'],axis=1)\n",
        "y1=df['Classification.1']\n",
        "df['Classification.1'].unique()\n",
        "X1=pd.get_dummies(X)"
      ]
    },
    {
      "cell_type": "code",
      "execution_count": null,
      "metadata": {
        "id": "2yAZMVzgNG39"
      },
      "outputs": [],
      "source": [
        "\n",
        "X_train_1,X_test_1,y_train_1,y_test_1=train_test_split(X1,y1,test_size=0.3,random_state=42)"
      ]
    },
    {
      "cell_type": "code",
      "execution_count": null,
      "metadata": {
        "id": "I-diD4-hNG39"
      },
      "outputs": [],
      "source": [
        "\n",
        "\n",
        "# Initialize SVM classifiers with different kernels\n",
        "svm_linear_1 = SVC(kernel='linear', random_state=1234)\n",
        "svm_poly_1 = SVC(kernel='poly', degree=3, random_state=1234)\n",
        "svm_rbf_1 = SVC(kernel='rbf', random_state=1234)\n",
        "svm_sigmoid_1 = SVC(kernel='sigmoid', random_state=1234)\n",
        "\n",
        "# Fit the models on the training data\n",
        "\n",
        "\n",
        "svm_linear_1.fit(X_train_1, y_train_1)\n",
        "svm_poly_1.fit(X_train_1, y_train_1)\n",
        "svm_rbf_1.fit(X_train_1, y_train_1)\n",
        "svm_sigmoid_1.fit(X_train_1, y_train_1)\n",
        "\n",
        "# Evaluate the models\n",
        "linear_accuracy_1 = svm_linear_1.score(X_test_1, y_test_1)\n",
        "poly_accuracy_1 = svm_poly_1.score(X_test_1, y_test_1)\n",
        "rbf_accuracy_1 = svm_rbf_1.score(X_test_1, y_test_1)\n",
        "sigmoid_accuracy_1 = svm_sigmoid_1.score(X_test_1, y_test_1)\n",
        "\n",
        "print(\"Linear Kernel Accuracy:\", linear_accuracy_1)\n",
        "print(\"Polynomial Kernel Accuracy:\", poly_accuracy_1)\n",
        "print(\"RBF Kernel Accuracy:\", rbf_accuracy_1)\n",
        "print(\"Sigmoid Kernel Accuracy:\", sigmoid_accuracy_1)\n"
      ]
    },
    {
      "cell_type": "code",
      "execution_count": null,
      "metadata": {
        "id": "W07Ko_XzNG39"
      },
      "outputs": [],
      "source": [
        "\n",
        "\n",
        "\n",
        "linear_predictions_1= svm_linear_1.predict(X_test_1)\n",
        "poly_predictions_1 = svm_poly_1.predict(X_test_1)\n",
        "rbf_predictions_1 = svm_rbf_1.predict(X_test_1)\n",
        "sigmoid_predictions_1 = svm_sigmoid_1.predict(X_test_1)\n",
        "\n",
        "# Calculate precision, recall, F1-score\n",
        "linear_precision_1 = precision_score(y_test_1, linear_predictions_1, average='weighted')\n",
        "linear_recall_1 = recall_score(y_test_1, linear_predictions_1, average='weighted')\n",
        "linear_f1_1 = f1_score(y_test_1, linear_predictions_1, average='weighted')\n",
        "linear_classification_report_1 = classification_report(y_test_1, linear_predictions_1, zero_division=0)\n",
        "\n",
        "poly_precision_1 = precision_score(y_test_1, poly_predictions_1, average='weighted')\n",
        "poly_recall_1 = recall_score(y_test_1, poly_predictions_1, average='weighted')\n",
        "poly_f1_1 = f1_score(y_test_1, poly_predictions_1, average='weighted')\n",
        "poly_classification_report_1 = classification_report(y_test_1, poly_predictions_1, zero_division=0)\n",
        "\n",
        "rbf_precision_1 = precision_score(y_test_1, rbf_predictions_1, average='weighted')\n",
        "rbf_recall_1 = recall_score(y_test_1, rbf_predictions_1, average='weighted')\n",
        "rbf_f1_1 = f1_score(y_test_1, rbf_predictions_1, average='weighted')\n",
        "rbf_classification_report_1 = classification_report(y_test_1, rbf_predictions_1, zero_division=0)\n",
        "\n",
        "sigmoid_precision_1 = precision_score(y_test_1, sigmoid_predictions_1, average='weighted')\n",
        "sigmoid_recall_1 = recall_score(y_test_1, sigmoid_predictions_1, average='weighted')\n",
        "sigmoid_f1_1 = f1_score(y_test_1, sigmoid_predictions_1, average='weighted')\n",
        "sigmoid_classification_report_1 = classification_report(y_test_1, sigmoid_predictions_1, zero_division=0)\n",
        "\n",
        "\n",
        "print(\"Linear Kernel Metrics:\")\n",
        "print(f\"Precision: {linear_precision_1}\")\n",
        "print(f\"Recall: {linear_recall_1}\")\n",
        "print(f\"F1-score: {linear_f1_1}\")\n",
        "print(\"Classification Report:\")\n",
        "print(linear_classification_report_1)\n",
        "\n",
        "\n"
      ]
    },
    {
      "cell_type": "code",
      "execution_count": null,
      "metadata": {
        "id": "-py9bAI50VYA"
      },
      "outputs": [],
      "source": [
        "cm=confusion_matrix(y_test_1, linear_predictions_1)\n",
        "cm"
      ]
    },
    {
      "cell_type": "code",
      "execution_count": null,
      "metadata": {
        "id": "LC8cjBlShtXa"
      },
      "outputs": [],
      "source": [
        "class_labels = ['PS', 'US', 'MR']"
      ]
    },
    {
      "cell_type": "code",
      "execution_count": null,
      "metadata": {
        "id": "MHWRff-40eTs"
      },
      "outputs": [],
      "source": [
        "print(\"linear\")\n",
        "plt.figure(figsize=(10,7))\n",
        "sns.heatmap(cm,annot=True,xticklabels=class_labels, yticklabels=class_labels)\n",
        "plt.xlabel('Predicted')\n",
        "plt.ylabel('Actual')"
      ]
    },
    {
      "cell_type": "code",
      "execution_count": null,
      "metadata": {
        "id": "oBlGgS87iXtV"
      },
      "outputs": [],
      "source": [
        "cm=confusion_matrix(y_test_1, poly_predictions_1)\n",
        "cm\n",
        "print(\"poly\")\n",
        "plt.figure(figsize=(10,7))\n",
        "sns.heatmap(cm,annot=True,xticklabels=class_labels, yticklabels=class_labels)\n",
        "plt.xlabel('Predicted')\n",
        "plt.ylabel('Actual')"
      ]
    },
    {
      "cell_type": "code",
      "execution_count": null,
      "metadata": {
        "id": "3DB9EGTBibZh"
      },
      "outputs": [],
      "source": [
        "cm=confusion_matrix(y_test_1, rbf_predictions_1)\n",
        "cm\n",
        "print(\"rbf\")\n",
        "plt.figure(figsize=(10,7))\n",
        "sns.heatmap(cm,annot=True,xticklabels=class_labels, yticklabels=class_labels)\n",
        "plt.xlabel('Predicted')\n",
        "plt.ylabel('Actual')"
      ]
    },
    {
      "cell_type": "code",
      "execution_count": null,
      "metadata": {
        "id": "NboQvz2fictd"
      },
      "outputs": [],
      "source": [
        "cm=confusion_matrix(y_test_1, sigmoid_predictions_1)\n",
        "cm\n",
        "print(\"sigmoid\")\n",
        "plt.figure(figsize=(10,7))\n",
        "sns.heatmap(cm,annot=True,xticklabels=class_labels, yticklabels=class_labels)\n",
        "plt.xlabel('Predicted')\n",
        "plt.ylabel('Actual')"
      ]
    },
    {
      "cell_type": "code",
      "execution_count": null,
      "metadata": {
        "id": "o1sP3jfDGoyh"
      },
      "outputs": [],
      "source": []
    },
    {
      "cell_type": "code",
      "execution_count": null,
      "metadata": {
        "id": "KtDmufy_Go2v"
      },
      "outputs": [],
      "source": [
        "# @title MODEL 4 DECISION TREE CLASSIFIER - FOR CLASSIFICATON\n"
      ]
    },
    {
      "cell_type": "code",
      "execution_count": null,
      "metadata": {
        "id": "SeuXUm8EGo47"
      },
      "outputs": [],
      "source": [
        "\n",
        "y=df['Classification']\n",
        "X_train,X_test,y_train,y_test=train_test_split(X,y,test_size=0.3,random_state=42)"
      ]
    },
    {
      "cell_type": "code",
      "execution_count": null,
      "metadata": {
        "id": "O8yIyQ0VGqGN"
      },
      "outputs": [],
      "source": []
    },
    {
      "cell_type": "code",
      "execution_count": null,
      "metadata": {
        "id": "QXaDmbfIGqKt"
      },
      "outputs": [],
      "source": [
        "clf = DecisionTreeClassifier()"
      ]
    },
    {
      "cell_type": "code",
      "execution_count": null,
      "metadata": {
        "id": "hFoxaYaGGqNI"
      },
      "outputs": [],
      "source": [
        "clf.fit(X_train, y_train)\n",
        "\n",
        "predictions = clf.predict(X_test)"
      ]
    },
    {
      "cell_type": "code",
      "execution_count": null,
      "metadata": {
        "id": "uL9kw5yNGqOs"
      },
      "outputs": [],
      "source": [
        "clf_accuracy = accuracy_score(y_test, predictions)\n",
        "clf_f1 = f1_score(y_test, predictions, average='micro')\n",
        "\n",
        "print(f\"Decision Tree Accuracy: {clf_accuracy:.2f}\")\n",
        "print(f\"Decision Tree F1 Score: {clf_f1:.2f}\")"
      ]
    },
    {
      "cell_type": "code",
      "execution_count": null,
      "metadata": {
        "id": "jv98NhT0fqXd"
      },
      "outputs": [],
      "source": [
        "conf_DT=confusion_matrix(y_test,predictions)"
      ]
    },
    {
      "cell_type": "code",
      "execution_count": null,
      "metadata": {
        "id": "hvWSKFc5Ony9"
      },
      "outputs": [],
      "source": [
        "cm_matrix = pd.DataFrame(data=conf_DT, columns=['C2S1', 'C3S1', 'C4S2', 'C4S1', 'C3S2', 'C4S4', 'C4S3', 'C1S1','C3S4', 'C3S3', 'C2S2'],\n",
        "                         index=['C2S1', 'C3S1', 'C4S2', 'C4S1', 'C3S2', 'C4S4', 'C4S3', 'C1S1', 'C3S4', 'C3S3', 'C2S2'])\n",
        "plt.figure(figsize=(10, 7))\n",
        "sns.heatmap(cm_matrix, annot=True)\n",
        "plt.xlabel(\"Prediction\", fontsize=10)\n",
        "plt.ylabel(\"Actual\", fontsize=10)\n",
        "\n"
      ]
    },
    {
      "cell_type": "code",
      "execution_count": null,
      "metadata": {
        "id": "S9p77-thfm4O"
      },
      "outputs": [],
      "source": []
    },
    {
      "cell_type": "code",
      "execution_count": null,
      "metadata": {
        "id": "1k-jFNquGqQZ"
      },
      "outputs": [],
      "source": [
        "# @title MODEL 4 DECISION TREE CLASSIFIER - FOR CLASSIFICATION.1\n"
      ]
    },
    {
      "cell_type": "code",
      "execution_count": null,
      "metadata": {
        "id": "gJ_uL4pfGqSR"
      },
      "outputs": [],
      "source": [
        "\n",
        "y=df['Classification.1']\n",
        "X_train,X_test,y_train,y_test=train_test_split(X,y,test_size=0.3,random_state=42)"
      ]
    },
    {
      "cell_type": "code",
      "execution_count": null,
      "metadata": {
        "id": "YcWYccVDGqUH"
      },
      "outputs": [],
      "source": [
        "clf2=DecisionTreeClassifier()"
      ]
    },
    {
      "cell_type": "code",
      "execution_count": null,
      "metadata": {
        "id": "nbAa7SLWGqWr"
      },
      "outputs": [],
      "source": [
        "clf2.fit(X_train, y_train)\n",
        "predictions = clf2.predict(X_test)"
      ]
    },
    {
      "cell_type": "code",
      "execution_count": null,
      "metadata": {
        "id": "x8z5hHc3GqaB"
      },
      "outputs": [],
      "source": [
        "clf2_accuracy = accuracy_score(y_test, predictions)\n",
        "clf2_f1 = f1_score(y_test, predictions, average='micro')\n",
        "\n",
        "print(f\"Decision Tree Accuracy: {clf2_accuracy:.2f}\")\n",
        "print(f\"Decision Tree F1 Score: {clf2_f1:.2f}\")"
      ]
    },
    {
      "cell_type": "code",
      "execution_count": null,
      "metadata": {
        "id": "yD1dTZgtGo6h"
      },
      "outputs": [],
      "source": []
    },
    {
      "cell_type": "code",
      "execution_count": null,
      "metadata": {
        "id": "RkBW-F0bHG77"
      },
      "outputs": [],
      "source": [
        "plt.figure(figsize=(20,10))\n",
        "plot_tree(clf, filled=True, feature_names=X.columns, class_names=True)\n",
        "plt.show()"
      ]
    },
    {
      "cell_type": "code",
      "execution_count": null,
      "metadata": {
        "id": "gsEnno-0HHAt"
      },
      "outputs": [],
      "source": [
        "plt.figure(figsize=(20,10))\n",
        "plot_tree(clf2, filled=True, feature_names=X.columns, class_names=True)\n",
        "plt.show()"
      ]
    },
    {
      "cell_type": "code",
      "execution_count": null,
      "metadata": {
        "id": "0OlexEbwPOe4"
      },
      "outputs": [],
      "source": [
        "cm=confusion_matrix(y_test, predictions)\n",
        "cm\n",
        "print(\"DECISION TREE FOR CLASSIFICATION.1\")\n",
        "plt.figure(figsize=(10,7))\n",
        "sns.heatmap(cm,annot=True,xticklabels=class_labels, yticklabels=class_labels)\n",
        "plt.xlabel('Predicted')\n",
        "plt.ylabel('Actual')"
      ]
    },
    {
      "cell_type": "code",
      "execution_count": null,
      "metadata": {
        "id": "FqfyHa4HHHEW"
      },
      "outputs": [],
      "source": []
    },
    {
      "cell_type": "code",
      "execution_count": null,
      "metadata": {
        "id": "LjJRQKjFGo9D"
      },
      "outputs": [],
      "source": []
    },
    {
      "cell_type": "code",
      "execution_count": null,
      "metadata": {
        "id": "2agFGvEZFEGv"
      },
      "outputs": [],
      "source": [
        "# @title MODEL 5 - RANDOM FOREST CLASSIFIER - FOR CLASSIFICATION\n",
        "\n",
        "y=df['Classification']\n",
        "X_train,X_test,y_train,y_test=train_test_split(X,y,test_size=0.3,random_state=42)"
      ]
    },
    {
      "cell_type": "code",
      "execution_count": null,
      "metadata": {
        "id": "8dxHLT1i4Nmi"
      },
      "outputs": [],
      "source": [
        "accuracies = []\n",
        "estimator_values = []"
      ]
    },
    {
      "cell_type": "code",
      "execution_count": null,
      "metadata": {
        "id": "jzq_6UXm3Dio"
      },
      "outputs": [],
      "source": [
        "for i in range(1,100,5):\n",
        "  RanForModel = RandomForestClassifier(n_estimators=i)\n",
        "  print(RanForModel.fit(X_train,y_train))\n",
        "  print(RanForModel.score(X_test,y_test))\n",
        "  score = RanForModel.score(X_test, y_test)\n",
        "  accuracies.append(score)\n",
        "  estimator_values.append(i)"
      ]
    },
    {
      "cell_type": "code",
      "execution_count": null,
      "metadata": {
        "id": "l-NC7id83Iaz"
      },
      "outputs": [],
      "source": [
        "\n",
        "\n",
        "def plot_accuracy(estimators, accuracy_values):\n",
        "    plt.figure(figsize=(8, 6))\n",
        "    plt.plot(estimators, accuracies, marker='o', linestyle='-', color='b')\n",
        "    plt.title('Accuracy vs. Estimators')\n",
        "    plt.xlabel('Estimators')\n",
        "    plt.ylabel('Accuracy')\n",
        "    plt.grid(True)\n",
        "    plt.show()\n",
        "\n",
        "\n",
        "plot_accuracy(estimator_values, accuracies)\n"
      ]
    },
    {
      "cell_type": "code",
      "execution_count": null,
      "metadata": {
        "id": "dSw2l0x-AX2Q"
      },
      "outputs": [],
      "source": [
        "accuracies_1 =[]\n",
        "estimator_values_1 =[]"
      ]
    },
    {
      "cell_type": "code",
      "execution_count": null,
      "metadata": {
        "id": "3Ui-xRO-pQg7"
      },
      "outputs": [],
      "source": [
        "for i in range(31,41,1):\n",
        "  RanForModel = RandomForestClassifier(n_estimators=i)\n",
        "  print(RanForModel.fit(X_train,y_train))\n",
        "  print(RanForModel.score(X_test,y_test))\n",
        "  score_1 = RanForModel.score(X_test, y_test)\n",
        "  accuracies_1.append(score_1)\n",
        "  estimator_values_1.append(i)"
      ]
    },
    {
      "cell_type": "code",
      "execution_count": null,
      "metadata": {
        "id": "emk-bWSSAltO"
      },
      "outputs": [],
      "source": [
        "def plot_accuracy(estimator_values_1, accuracies_1):\n",
        "    plt.figure(figsize=(8, 6))\n",
        "    plt.plot(estimator_values_1, accuracies_1, marker='o', linestyle='-', color='b')\n",
        "    plt.title('Accuracy vs. Estimators')\n",
        "    plt.xlabel('Estimators')\n",
        "    plt.ylabel('Accuracy')\n",
        "    plt.grid(True)\n",
        "    plt.show()\n",
        "plot_accuracy(estimator_values_1, accuracies_1)\n"
      ]
    },
    {
      "cell_type": "code",
      "execution_count": null,
      "metadata": {
        "id": "a1p4RaP9pey5"
      },
      "outputs": [],
      "source": [
        "RanForModel = RandomForestClassifier(n_estimators=33)\n",
        "print(RanForModel.fit(X_train,y_train))\n",
        "print(RanForModel.score(X_test,y_test))"
      ]
    },
    {
      "cell_type": "code",
      "execution_count": null,
      "metadata": {
        "id": "ERmeAb4o3lfv"
      },
      "outputs": [],
      "source": [
        "y_predicted = RanForModel.predict(X_test)"
      ]
    },
    {
      "cell_type": "code",
      "execution_count": null,
      "metadata": {
        "id": "JqBzN4f34bUV"
      },
      "outputs": [],
      "source": [
        "conf_RF=confusion_matrix(y_test,y_predicted)"
      ]
    },
    {
      "cell_type": "code",
      "execution_count": null,
      "metadata": {
        "id": "7tTpqh0I5CkO"
      },
      "outputs": [],
      "source": [
        "cm_matrix = pd.DataFrame(data=conf_RF, columns=['C2S1', 'C3S1', 'C4S2', 'C4S1', 'C3S2', 'C4S4', 'C4S3', 'C3S4', 'C3S3', 'C2S2'],\n",
        "                         index=['C2S1', 'C3S1', 'C4S2', 'C4S1', 'C3S2', 'C4S4', 'C4S3', 'C3S4', 'C3S3', 'C2S2'])\n",
        "plt.figure(figsize=(10, 7))\n",
        "sns.heatmap(cm_matrix, annot=True)\n",
        "plt.xlabel(\"Prediction\", fontsize=10)\n",
        "plt.ylabel(\"Actual\", fontsize=10)\n",
        "\n"
      ]
    },
    {
      "cell_type": "code",
      "execution_count": null,
      "metadata": {
        "id": "AeIddZa2Yhet"
      },
      "outputs": [],
      "source": [
        "# @title MODEL 5 RANDOM FOREST CLASSIFIER - FOR CLASSIFICATION.1\n",
        "df['Classification.1'].unique()"
      ]
    },
    {
      "cell_type": "code",
      "execution_count": null,
      "metadata": {
        "id": "imfTgugsMlu9"
      },
      "outputs": [],
      "source": [
        "df['Classification.1'] = df['Classification.1'].replace(['P.S.','U.S.','MR'],[0,1,2])"
      ]
    },
    {
      "cell_type": "code",
      "execution_count": null,
      "metadata": {
        "id": "NT5I4_-3NfuF"
      },
      "outputs": [],
      "source": [
        "df.groupby('Classification.1')['sno'].count()"
      ]
    },
    {
      "cell_type": "code",
      "execution_count": null,
      "metadata": {
        "id": "1pMFDfy3NkQz"
      },
      "outputs": [],
      "source": [
        "y=df['Classification.1']\n",
        "X_train,X_test,y_train,y_test=train_test_split(X,y,test_size=0.3,random_state=42)"
      ]
    },
    {
      "cell_type": "code",
      "execution_count": null,
      "metadata": {
        "id": "trq8jNe2v8ec"
      },
      "outputs": [],
      "source": []
    },
    {
      "cell_type": "code",
      "execution_count": null,
      "metadata": {
        "id": "cxDUsyp0AyqS"
      },
      "outputs": [],
      "source": [
        "accuracies_2 = []\n",
        "estimated_values_2 =[]"
      ]
    },
    {
      "cell_type": "code",
      "execution_count": null,
      "metadata": {
        "id": "hsHOhcnDv8ed"
      },
      "outputs": [],
      "source": [
        "for i in range(1,100,5):\n",
        "  RanForModel = RandomForestClassifier(n_estimators=i)\n",
        "  print(RanForModel.fit(X_train,y_train))\n",
        "  print(RanForModel.score(X_test,y_test))\n",
        "  score_2 = RanForModel.score(X_test, y_test)\n",
        "  accuracies_2.append(score_2)\n",
        "  estimated_values_2.append(i)"
      ]
    },
    {
      "cell_type": "code",
      "execution_count": null,
      "metadata": {
        "id": "Ld47gpdVBelp"
      },
      "outputs": [],
      "source": [
        "def plot_accuracy(estimated_values_2, accuracies_2):\n",
        "    plt.figure(figsize=(8, 6))\n",
        "    plt.plot(estimated_values_2, accuracies_2, marker='o', linestyle='-', color='b')\n",
        "    plt.title('Accuracy vs. Estimators')\n",
        "    plt.xlabel('Estimators')\n",
        "    plt.ylabel('Accuracy')\n",
        "    plt.grid(True)\n",
        "    plt.show()\n",
        "plot_accuracy(estimated_values_2, accuracies_2)\n"
      ]
    },
    {
      "cell_type": "code",
      "execution_count": null,
      "metadata": {
        "id": "JNq4k-cev8ed"
      },
      "outputs": [],
      "source": [
        "for i in range(31,41,1):\n",
        "  RanForModel = RandomForestClassifier(n_estimators=i)\n",
        "  print(RanForModel.fit(X_train,y_train))\n",
        "  print(RanForModel.score(X_test,y_test))"
      ]
    },
    {
      "cell_type": "code",
      "execution_count": null,
      "metadata": {
        "id": "HAqxC6YWv8ed"
      },
      "outputs": [],
      "source": [
        "RanForModel = RandomForestClassifier(n_estimators=32)\n",
        "print(RanForModel.fit(X_train,y_train))\n",
        "print(RanForModel.score(X_test,y_test))"
      ]
    },
    {
      "cell_type": "code",
      "execution_count": null,
      "metadata": {
        "id": "2Cmitussv8ed"
      },
      "outputs": [],
      "source": [
        "y_predicted = RanForModel.predict(X_test)"
      ]
    },
    {
      "cell_type": "code",
      "execution_count": null,
      "metadata": {
        "id": "2Vb6_NOjv8ed"
      },
      "outputs": [],
      "source": [
        "cm=confusion_matrix(y_test,y_predicted)\n",
        "cm"
      ]
    },
    {
      "cell_type": "code",
      "execution_count": null,
      "metadata": {
        "id": "tybj25SZv8ed"
      },
      "outputs": [],
      "source": [
        "\n",
        "plt.figure(figsize=(10,7))\n",
        "sns.heatmap(cm,annot=True)\n",
        "plt.xlabel('Predicted')\n",
        "plt.ylabel('Actual')"
      ]
    },
    {
      "cell_type": "code",
      "execution_count": null,
      "metadata": {
        "id": "HkeUHhjPYR7K"
      },
      "outputs": [],
      "source": []
    }
  ],
  "metadata": {
    "accelerator": "GPU",
    "colab": {
      "provenance": []
    },
    "kernelspec": {
      "display_name": "Python 3",
      "name": "python3"
    },
    "language_info": {
      "name": "python"
    }
  },
  "nbformat": 4,
  "nbformat_minor": 0
}